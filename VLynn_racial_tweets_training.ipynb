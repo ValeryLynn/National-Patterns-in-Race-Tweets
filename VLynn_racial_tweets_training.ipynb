{
 "cells": [
  {
   "cell_type": "markdown",
   "metadata": {},
   "source": [
    "# Multi-label classification of racial tweets:"
   ]
  },
  {
   "cell_type": "code",
   "execution_count": 1,
   "metadata": {},
   "outputs": [
    {
     "data": {
      "text/plain": [
       "'/Users/valery/Documents/Springboard/Capstone_2'"
      ]
     },
     "execution_count": 1,
     "metadata": {},
     "output_type": "execute_result"
    }
   ],
   "source": [
    "#Get directory path\n",
    "import os\n",
    "os.chdir('/Users/valery/Documents/Springboard/Capstone_2') \n",
    "os.getcwd( )"
   ]
  },
  {
   "cell_type": "code",
   "execution_count": 2,
   "metadata": {},
   "outputs": [
    {
     "name": "stdout",
     "output_type": "stream",
     "text": [
      "(6481, 5)\n",
      "\n",
      "Index(['tweetidg', 'tweet', 'positive', 'negative', 'neutral'], dtype='object')\n"
     ]
    },
    {
     "data": {
      "text/html": [
       "<div>\n",
       "<style scoped>\n",
       "    .dataframe tbody tr th:only-of-type {\n",
       "        vertical-align: middle;\n",
       "    }\n",
       "\n",
       "    .dataframe tbody tr th {\n",
       "        vertical-align: top;\n",
       "    }\n",
       "\n",
       "    .dataframe thead th {\n",
       "        text-align: right;\n",
       "    }\n",
       "</style>\n",
       "<table border=\"1\" class=\"dataframe\">\n",
       "  <thead>\n",
       "    <tr style=\"text-align: right;\">\n",
       "      <th></th>\n",
       "      <th>tweetidg</th>\n",
       "      <th>tweet</th>\n",
       "      <th>positive</th>\n",
       "      <th>negative</th>\n",
       "      <th>neutral</th>\n",
       "    </tr>\n",
       "  </thead>\n",
       "  <tbody>\n",
       "    <tr>\n",
       "      <th>0</th>\n",
       "      <td>588687492888551424g</td>\n",
       "      <td>i am the type of nigga tryna get rich</td>\n",
       "      <td>0.0</td>\n",
       "      <td>0.0</td>\n",
       "      <td>1.0</td>\n",
       "    </tr>\n",
       "    <tr>\n",
       "      <th>1</th>\n",
       "      <td>592553981601304576g</td>\n",
       "      <td>sheblasiannn smuckers</td>\n",
       "      <td>0.0</td>\n",
       "      <td>0.0</td>\n",
       "      <td>1.0</td>\n",
       "    </tr>\n",
       "    <tr>\n",
       "      <th>2</th>\n",
       "      <td>717371522956984320g</td>\n",
       "      <td>proteinwisdom we even make japanese cars and e...</td>\n",
       "      <td>0.0</td>\n",
       "      <td>0.0</td>\n",
       "      <td>1.0</td>\n",
       "    </tr>\n",
       "    <tr>\n",
       "      <th>3</th>\n",
       "      <td>590292541125328898g</td>\n",
       "      <td>i wanted to see my nigga when i went back home...</td>\n",
       "      <td>0.0</td>\n",
       "      <td>1.0</td>\n",
       "      <td>0.0</td>\n",
       "    </tr>\n",
       "    <tr>\n",
       "      <th>4</th>\n",
       "      <td>592522044480225282g</td>\n",
       "      <td>wth stevo is that a nigga</td>\n",
       "      <td>0.0</td>\n",
       "      <td>0.0</td>\n",
       "      <td>1.0</td>\n",
       "    </tr>\n",
       "  </tbody>\n",
       "</table>\n",
       "</div>"
      ],
      "text/plain": [
       "              tweetidg                                              tweet  \\\n",
       "0  588687492888551424g              i am the type of nigga tryna get rich   \n",
       "1  592553981601304576g                              sheblasiannn smuckers   \n",
       "2  717371522956984320g  proteinwisdom we even make japanese cars and e...   \n",
       "3  590292541125328898g  i wanted to see my nigga when i went back home...   \n",
       "4  592522044480225282g                          wth stevo is that a nigga   \n",
       "\n",
       "   positive  negative  neutral  \n",
       "0       0.0       0.0      1.0  \n",
       "1       0.0       0.0      1.0  \n",
       "2       0.0       0.0      1.0  \n",
       "3       0.0       1.0      0.0  \n",
       "4       0.0       0.0      1.0  "
      ]
     },
     "execution_count": 2,
     "metadata": {},
     "output_type": "execute_result"
    }
   ],
   "source": [
    "import pandas as pd\n",
    "#Read in csv of cleaned data\n",
    "df = pd.read_csv('df_tweets.csv', index_col=0)\n",
    "\n",
    "#Create training set\n",
    "df_train = df[df['tweet'].notnull()]\n",
    "print(df_train.shape)\n",
    "print('')\n",
    "print(df_train.columns)\n",
    "df_train.head()"
   ]
  },
  {
   "cell_type": "code",
   "execution_count": 3,
   "metadata": {},
   "outputs": [],
   "source": [
    "import re\n",
    "from sklearn.model_selection import train_test_split\n",
    "from sklearn.naive_bayes import MultinomialNB\n",
    "from sklearn.metrics import accuracy_score\n",
    "from sklearn.multiclass import OneVsRestClassifier\n",
    "from nltk.corpus import stopwords\n",
    "stop_words = set(stopwords.words('english'))\n",
    "from sklearn.svm import LinearSVC\n",
    "from sklearn.linear_model import LogisticRegression\n",
    "from sklearn.pipeline import Pipeline\n",
    "import seaborn as sns"
   ]
  },
  {
   "cell_type": "markdown",
   "metadata": {},
   "source": [
    "### Create a table to examine the distribution of tags"
   ]
  },
  {
   "cell_type": "code",
   "execution_count": 4,
   "metadata": {},
   "outputs": [
    {
     "data": {
      "text/plain": [
       "Index(['tweetidg', 'tweet', 'positive', 'negative', 'neutral'], dtype='object')"
      ]
     },
     "execution_count": 4,
     "metadata": {},
     "output_type": "execute_result"
    }
   ],
   "source": [
    "df_train.columns"
   ]
  },
  {
   "cell_type": "code",
   "execution_count": 5,
   "metadata": {},
   "outputs": [
    {
     "name": "stdout",
     "output_type": "stream",
     "text": [
      "   Category  Number_of_Tweets    priors\n",
      "0  positive            1642.0  0.253356\n",
      "1  negative            1977.0  0.305046\n",
      "2   neutral            2862.0  0.441599\n",
      "\n",
      "Total number of labels:   6481.0\n"
     ]
    }
   ],
   "source": [
    "df_sparse = df_train.drop(['tweetidg', 'tweet'], axis=1)\n",
    "\n",
    "counts = []\n",
    "priors = []\n",
    "categories = list(df_sparse.columns.values)\n",
    "for i in categories:\n",
    "    numarts = df_sparse[i].sum()\n",
    "    counts.append((i, numarts))\n",
    "\n",
    "df_stats = pd.DataFrame(counts, columns=['Category', 'Number_of_Tweets'])\n",
    "total = df_stats.Number_of_Tweets.sum()\n",
    "\n",
    "df_stats['priors'] = df_stats['Number_of_Tweets']/total\n",
    "\n",
    "print(df_stats)\n",
    "print('')\n",
    "print('Total number of labels:  ', total)"
   ]
  },
  {
   "cell_type": "markdown",
   "metadata": {},
   "source": [
    "## Multi-label classification"
   ]
  },
  {
   "cell_type": "code",
   "execution_count": 6,
   "metadata": {},
   "outputs": [],
   "source": [
    "import numpy as np\n",
    "import matplotlib.pyplot as plt\n",
    "import seaborn as sns\n",
    "%matplotlib inline"
   ]
  },
  {
   "cell_type": "code",
   "execution_count": 7,
   "metadata": {},
   "outputs": [
    {
     "data": {
      "text/plain": [
       "Index(['tweetidg', 'tweet', 'positive', 'negative', 'neutral'], dtype='object')"
      ]
     },
     "execution_count": 7,
     "metadata": {},
     "output_type": "execute_result"
    }
   ],
   "source": [
    "df_train.columns"
   ]
  },
  {
   "cell_type": "code",
   "execution_count": 8,
   "metadata": {},
   "outputs": [],
   "source": [
    "#Make sure all entries in df_matrix['text'] are strings\n",
    "df_train['tweet'] = df_train['tweet'].astype(str)\n",
    "categories = ['positive', 'negative', 'neutral']"
   ]
  },
  {
   "cell_type": "code",
   "execution_count": 9,
   "metadata": {},
   "outputs": [],
   "source": [
    "#Vectorize the data\n",
    "from sklearn.feature_extraction.text import CountVectorizer\n",
    "from sklearn.feature_extraction.text import TfidfVectorizer\n",
    "from sklearn.model_selection import train_test_split\n",
    "\n",
    "#vectorizer = CountVectorizer(stop_words='english',binary=False,max_df=.4, ngram_range=(1, 1),\n",
    "                                     #min_df=1,strip_accents='unicode',max_features=200)\n",
    "\n",
    "#featurizer = TfidfVectorizer(stop_words='english',binary=False,max_df=.4,min_df=1, max_features=200)\n",
    "#X = featurizer.fit_transform(df_train.tweet)"
   ]
  },
  {
   "cell_type": "markdown",
   "metadata": {},
   "source": [
    "## Multinomial Naive Bayes"
   ]
  },
  {
   "cell_type": "code",
   "execution_count": 10,
   "metadata": {},
   "outputs": [
    {
     "name": "stdout",
     "output_type": "stream",
     "text": [
      "positive training set accuracy:  0.7654320987654321\n",
      "positive test set accuracy:  0.7552699228791774 \n",
      "\n",
      "negative training set accuracy:  0.7795414462081128\n",
      "negative test set accuracy:  0.7588688946015424 \n",
      "\n",
      "neutral training set accuracy:  0.6664462081128748\n",
      "neutral test set accuracy:  0.6627249357326478 \n",
      "\n"
     ]
    }
   ],
   "source": [
    "from sklearn.naive_bayes import MultinomialNB\n",
    "\n",
    "vectorizer = CountVectorizer(stop_words='english',binary=False,max_df=.4, ngram_range=(1, 1),\n",
    "                                     min_df=1,strip_accents='unicode',max_features=200)\n",
    "\n",
    "featurizer = TfidfVectorizer(stop_words='english',binary=False,max_df=.4,min_df=1, max_features=200)\n",
    "X = vectorizer.fit_transform(df_train.tweet)\n",
    "\n",
    "clf_NB = MultinomialNB()\n",
    "\n",
    "for category in categories:\n",
    "    y = df_train[category].values.astype(np.int)\n",
    "    X_train, X_test, y_train, y_test = train_test_split(X, y, test_size=0.30, random_state=42)\n",
    "\n",
    "    clf_NB.fit(X_train,y_train)\n",
    "\n",
    "    train_accuracy =clf_NB.score(X_train,y_train)\n",
    "    test_accuracy = clf_NB.score(X_test, y_test)\n",
    "    print(category, \"training set accuracy: \", train_accuracy)\n",
    "    print(category, \"test set accuracy: \", test_accuracy, '\\n')\n",
    "          "
   ]
  },
  {
   "cell_type": "markdown",
   "metadata": {},
   "source": [
    "This is looking good! But accuracy can be deceiving. High accuracy scores can still happen if your model detects many true negatives, but few true positives! Let's check:"
   ]
  },
  {
   "cell_type": "code",
   "execution_count": 11,
   "metadata": {},
   "outputs": [
    {
     "data": {
      "text/html": [
       "<div>\n",
       "<style scoped>\n",
       "    .dataframe tbody tr th:only-of-type {\n",
       "        vertical-align: middle;\n",
       "    }\n",
       "\n",
       "    .dataframe tbody tr th {\n",
       "        vertical-align: top;\n",
       "    }\n",
       "\n",
       "    .dataframe thead th {\n",
       "        text-align: right;\n",
       "    }\n",
       "</style>\n",
       "<table border=\"1\" class=\"dataframe\">\n",
       "  <thead>\n",
       "    <tr style=\"text-align: right;\">\n",
       "      <th></th>\n",
       "      <th>Categories</th>\n",
       "      <th>Confusion Matrix</th>\n",
       "      <th>Precision_NB</th>\n",
       "      <th>Recall_NB</th>\n",
       "      <th>F1_NB</th>\n",
       "    </tr>\n",
       "  </thead>\n",
       "  <tbody>\n",
       "    <tr>\n",
       "      <th>0</th>\n",
       "      <td>positive</td>\n",
       "      <td>[[4150, 689], [1083, 559]]</td>\n",
       "      <td>0.447917</td>\n",
       "      <td>0.340438</td>\n",
       "      <td>0.386851</td>\n",
       "    </tr>\n",
       "    <tr>\n",
       "      <th>1</th>\n",
       "      <td>negative</td>\n",
       "      <td>[[3521, 983], [535, 1442]]</td>\n",
       "      <td>0.594639</td>\n",
       "      <td>0.729388</td>\n",
       "      <td>0.655157</td>\n",
       "    </tr>\n",
       "    <tr>\n",
       "      <th>2</th>\n",
       "      <td>neutral</td>\n",
       "      <td>[[3017, 602], [1621, 1241]]</td>\n",
       "      <td>0.673359</td>\n",
       "      <td>0.433613</td>\n",
       "      <td>0.527524</td>\n",
       "    </tr>\n",
       "  </tbody>\n",
       "</table>\n",
       "</div>"
      ],
      "text/plain": [
       "  Categories             Confusion Matrix  Precision_NB  Recall_NB     F1_NB\n",
       "0   positive   [[4150, 689], [1083, 559]]      0.447917   0.340438  0.386851\n",
       "1   negative   [[3521, 983], [535, 1442]]      0.594639   0.729388  0.655157\n",
       "2    neutral  [[3017, 602], [1621, 1241]]      0.673359   0.433613  0.527524"
      ]
     },
     "execution_count": 11,
     "metadata": {},
     "output_type": "execute_result"
    }
   ],
   "source": [
    "from sklearn.metrics import confusion_matrix\n",
    "from sklearn.model_selection import cross_val_predict\n",
    "from sklearn.metrics import precision_score, recall_score, f1_score\n",
    "\n",
    "vectorizer = CountVectorizer(stop_words='english',binary=False,max_df=.4, ngram_range=(1, 1),\n",
    "                                     min_df=1,strip_accents='unicode',max_features=200)\n",
    "\n",
    "X = vectorizer.fit_transform(df_train.tweet)\n",
    "\n",
    "\n",
    "conmatrxNB = []\n",
    "precisionNB = []\n",
    "recallNB = []\n",
    "f1NB = []\n",
    "\n",
    "\n",
    "for category in categories:\n",
    "    \n",
    "    y_train_pred = cross_val_predict(clf_NB, X, df_train[category], cv=5)\n",
    "    \n",
    "    cmNB = confusion_matrix(df_train[category], y_train_pred)\n",
    "    conmatrxNB.append(cmNB)\n",
    "    precNB = precision_score(df_train[category], y_train_pred)    \n",
    "    precisionNB.append(precNB)\n",
    "    recNB = recall_score(df_train[category], y_train_pred)\n",
    "    recallNB.append(recNB)\n",
    "    fNB = f1_score(df_train[category], y_train_pred)\n",
    "    f1NB.append(fNB)\n",
    "\n",
    "    \n",
    "dictNB = {'Categories':categories, 'Confusion Matrix':conmatrxNB, 'Precision_NB':precisionNB, 'Recall_NB':recallNB, 'F1_NB':f1NB}\n",
    "df_NB = pd.DataFrame(dictNB) \n",
    "#df_NB.to_csv('/Users/valery/Documents/Springboard/Capstone_2/Pretuned_Results/Results_NB_tweets.csv')\n",
    "\n",
    "df_NB_tweets = df_NB[df_NB['Precision_NB'] >= 0]\n",
    " \n",
    "df_NB_tweets"
   ]
  },
  {
   "cell_type": "markdown",
   "metadata": {},
   "source": [
    "As I expected, high accuracy doesn't always mean high precision or recall. We can see that these are lower. I will run the other models first, then tune parameters on the one showing the most promise for this data. Note that for the neutral label, accuracy was lower than precision. For this study, we want to decrease the probability of a Type 2 error - a false positive where we say there is an effect but there is not. Precision is the best score to tune because it is a measure of how sure we are that a label is a true label (true positive) if our algorithm classifies it as such. After running the other two classifiers, I will tune the hyper-parameters for the best performing classifier at these default settings. "
   ]
  },
  {
   "cell_type": "markdown",
   "metadata": {},
   "source": [
    "## LinearSVC"
   ]
  },
  {
   "cell_type": "code",
   "execution_count": 65,
   "metadata": {},
   "outputs": [
    {
     "data": {
      "text/html": [
       "<div>\n",
       "<style scoped>\n",
       "    .dataframe tbody tr th:only-of-type {\n",
       "        vertical-align: middle;\n",
       "    }\n",
       "\n",
       "    .dataframe tbody tr th {\n",
       "        vertical-align: top;\n",
       "    }\n",
       "\n",
       "    .dataframe thead th {\n",
       "        text-align: right;\n",
       "    }\n",
       "</style>\n",
       "<table border=\"1\" class=\"dataframe\">\n",
       "  <thead>\n",
       "    <tr style=\"text-align: right;\">\n",
       "      <th></th>\n",
       "      <th>Categories</th>\n",
       "      <th>Confusion Matrix</th>\n",
       "      <th>Precision_SVC</th>\n",
       "      <th>Recall_SVC</th>\n",
       "      <th>F1_SVC</th>\n",
       "    </tr>\n",
       "  </thead>\n",
       "  <tbody>\n",
       "    <tr>\n",
       "      <th>0</th>\n",
       "      <td>positive</td>\n",
       "      <td>[[4510, 329], [1265, 377]]</td>\n",
       "      <td>0.533994</td>\n",
       "      <td>0.229598</td>\n",
       "      <td>0.321124</td>\n",
       "    </tr>\n",
       "    <tr>\n",
       "      <th>1</th>\n",
       "      <td>negative</td>\n",
       "      <td>[[3967, 537], [855, 1122]]</td>\n",
       "      <td>0.676311</td>\n",
       "      <td>0.567527</td>\n",
       "      <td>0.617162</td>\n",
       "    </tr>\n",
       "    <tr>\n",
       "      <th>2</th>\n",
       "      <td>neutral</td>\n",
       "      <td>[[2791, 828], [1289, 1573]]</td>\n",
       "      <td>0.655144</td>\n",
       "      <td>0.549616</td>\n",
       "      <td>0.597758</td>\n",
       "    </tr>\n",
       "  </tbody>\n",
       "</table>\n",
       "</div>"
      ],
      "text/plain": [
       "  Categories             Confusion Matrix  Precision_SVC  Recall_SVC    F1_SVC\n",
       "0   positive   [[4510, 329], [1265, 377]]       0.533994    0.229598  0.321124\n",
       "1   negative   [[3967, 537], [855, 1122]]       0.676311    0.567527  0.617162\n",
       "2    neutral  [[2791, 828], [1289, 1573]]       0.655144    0.549616  0.597758"
      ]
     },
     "execution_count": 65,
     "metadata": {},
     "output_type": "execute_result"
    }
   ],
   "source": [
    "vectorizer = CountVectorizer(stop_words='english',binary=False,max_df=.4, ngram_range=(1, 1),\n",
    "                                     min_df=1,strip_accents='unicode',max_features=200)\n",
    "\n",
    "featurizer = TfidfVectorizer(stop_words='english',binary=False,max_df=.4,min_df=1, max_features=200)\n",
    "X = featurizer.fit_transform(df_train.tweet)\n",
    "\n",
    "clf_SVC = LinearSVC()\n",
    "\n",
    "conmatrxSVC = []\n",
    "precisionSVC = []\n",
    "recallSVC = []\n",
    "f1SVC = []\n",
    "\n",
    "for category in categories:\n",
    "\n",
    "    y_train_pred = cross_val_predict(clf_SVC, X, df_train[category], cv=5)\n",
    "    \n",
    "    cmSVC = confusion_matrix(df_train[category], y_train_pred)\n",
    "    conmatrxSVC.append(cmSVC)\n",
    "    precSVC = precision_score(df_train[category], y_train_pred)    \n",
    "    precisionSVC.append(precSVC)\n",
    "    recSVC = recall_score(df_train[category], y_train_pred)\n",
    "    recallSVC.append(recSVC)\n",
    "    fSVC = f1_score(df_train[category], y_train_pred)\n",
    "    f1SVC.append(fSVC)\n",
    "\n",
    "    \n",
    "dictSVC = {'Categories':categories, 'Confusion Matrix':conmatrxSVC, 'Precision_SVC':precisionSVC, \n",
    "           'Recall_SVC':recallSVC, 'F1_SVC':f1SVC}\n",
    "df_SVC = pd.DataFrame(dictSVC) \n",
    "#df_SVC.to_csv('/Users/valery/Documents/Springboard/Capstone_2/Pretuned_Results/Results_SVC_tweets.csv')\n",
    "\n",
    "df_SVC_tweets = df_SVC[df_SVC['Precision_SVC'] >= 0]\n",
    " \n",
    "df_SVC_tweets"
   ]
  },
  {
   "cell_type": "code",
   "execution_count": null,
   "metadata": {},
   "outputs": [],
   "source": []
  },
  {
   "cell_type": "markdown",
   "metadata": {},
   "source": [
    "## Logistic Regression"
   ]
  },
  {
   "cell_type": "code",
   "execution_count": 67,
   "metadata": {},
   "outputs": [
    {
     "data": {
      "text/html": [
       "<div>\n",
       "<style scoped>\n",
       "    .dataframe tbody tr th:only-of-type {\n",
       "        vertical-align: middle;\n",
       "    }\n",
       "\n",
       "    .dataframe tbody tr th {\n",
       "        vertical-align: top;\n",
       "    }\n",
       "\n",
       "    .dataframe thead th {\n",
       "        text-align: right;\n",
       "    }\n",
       "</style>\n",
       "<table border=\"1\" class=\"dataframe\">\n",
       "  <thead>\n",
       "    <tr style=\"text-align: right;\">\n",
       "      <th></th>\n",
       "      <th>Categories</th>\n",
       "      <th>Confusion Matrix</th>\n",
       "      <th>Precision_LR</th>\n",
       "      <th>Recall_LR</th>\n",
       "      <th>F1_LR</th>\n",
       "    </tr>\n",
       "  </thead>\n",
       "  <tbody>\n",
       "    <tr>\n",
       "      <th>0</th>\n",
       "      <td>positive</td>\n",
       "      <td>[[4650, 189], [1333, 309]]</td>\n",
       "      <td>0.620482</td>\n",
       "      <td>0.188185</td>\n",
       "      <td>0.288785</td>\n",
       "    </tr>\n",
       "    <tr>\n",
       "      <th>1</th>\n",
       "      <td>negative</td>\n",
       "      <td>[[4024, 480], [903, 1074]]</td>\n",
       "      <td>0.691120</td>\n",
       "      <td>0.543247</td>\n",
       "      <td>0.608326</td>\n",
       "    </tr>\n",
       "    <tr>\n",
       "      <th>2</th>\n",
       "      <td>neutral</td>\n",
       "      <td>[[2801, 818], [1236, 1626]]</td>\n",
       "      <td>0.665303</td>\n",
       "      <td>0.568134</td>\n",
       "      <td>0.612891</td>\n",
       "    </tr>\n",
       "  </tbody>\n",
       "</table>\n",
       "</div>"
      ],
      "text/plain": [
       "  Categories             Confusion Matrix  Precision_LR  Recall_LR     F1_LR\n",
       "0   positive   [[4650, 189], [1333, 309]]      0.620482   0.188185  0.288785\n",
       "1   negative   [[4024, 480], [903, 1074]]      0.691120   0.543247  0.608326\n",
       "2    neutral  [[2801, 818], [1236, 1626]]      0.665303   0.568134  0.612891"
      ]
     },
     "execution_count": 67,
     "metadata": {},
     "output_type": "execute_result"
    }
   ],
   "source": [
    "vectorizer = CountVectorizer(stop_words='english',binary=False,max_df=.4, ngram_range=(1, 1),\n",
    "                                     min_df=1,strip_accents='unicode',max_features=200)\n",
    "\n",
    "featurizer = TfidfVectorizer(stop_words='english',binary=False,max_df=.4,min_df=1, max_features=200)\n",
    "X = featurizer.fit_transform(df_train.tweet)\n",
    "\n",
    "\n",
    "clf_LR = LogisticRegression()\n",
    "\n",
    "import warnings\n",
    "warnings.filterwarnings(\"ignore\")\n",
    "\n",
    "#Prediction with NB\n",
    "conmatrxLR = []\n",
    "precisionLR = []\n",
    "recallLR = []\n",
    "f1LR = []\n",
    "\n",
    "\n",
    "\n",
    "for category in categories:\n",
    "\n",
    "    y_train_pred = cross_val_predict(clf_LR, X, df_train[category], cv=5)\n",
    "    \n",
    "    cmLR = confusion_matrix(df_train[category], y_train_pred)\n",
    "    conmatrxLR.append(cmLR)\n",
    "    precLR = precision_score(df_train[category], y_train_pred)    \n",
    "    precisionLR.append(precLR)\n",
    "    recLR = recall_score(df_train[category], y_train_pred)\n",
    "    recallLR.append(recLR)\n",
    "    fLR = f1_score(df_train[category], y_train_pred)\n",
    "    f1LR.append(fLR)\n",
    "\n",
    "    \n",
    "dictLR = {'Categories':categories, 'Confusion Matrix':conmatrxLR, 'Precision_LR':precisionLR,'Recall_LR':recallLR, 'F1_LR':f1LR}\n",
    "df_LR = pd.DataFrame(dictLR) \n",
    "#df_LR.to_csv('/Users/valery/Documents/Springboard/Capstone_2/Pretuned_Results/Results_LR_tweets.csv')\n",
    "\n",
    "df_LR_tweets = df_LR[df_LR['Precision_LR'] >= 0]\n",
    " \n",
    "df_LR_tweets"
   ]
  },
  {
   "cell_type": "markdown",
   "metadata": {},
   "source": [
    "## Random forest"
   ]
  },
  {
   "cell_type": "code",
   "execution_count": 69,
   "metadata": {},
   "outputs": [
    {
     "data": {
      "text/html": [
       "<div>\n",
       "<style scoped>\n",
       "    .dataframe tbody tr th:only-of-type {\n",
       "        vertical-align: middle;\n",
       "    }\n",
       "\n",
       "    .dataframe tbody tr th {\n",
       "        vertical-align: top;\n",
       "    }\n",
       "\n",
       "    .dataframe thead th {\n",
       "        text-align: right;\n",
       "    }\n",
       "</style>\n",
       "<table border=\"1\" class=\"dataframe\">\n",
       "  <thead>\n",
       "    <tr style=\"text-align: right;\">\n",
       "      <th></th>\n",
       "      <th>Categories</th>\n",
       "      <th>Confusion Matrix</th>\n",
       "      <th>Precision_RF</th>\n",
       "      <th>Recall_RF</th>\n",
       "      <th>F1_RF</th>\n",
       "    </tr>\n",
       "  </thead>\n",
       "  <tbody>\n",
       "    <tr>\n",
       "      <th>0</th>\n",
       "      <td>positive</td>\n",
       "      <td>[[4342, 497], [1243, 399]]</td>\n",
       "      <td>0.445312</td>\n",
       "      <td>0.242996</td>\n",
       "      <td>0.314421</td>\n",
       "    </tr>\n",
       "    <tr>\n",
       "      <th>1</th>\n",
       "      <td>negative</td>\n",
       "      <td>[[3831, 673], [917, 1060]]</td>\n",
       "      <td>0.611656</td>\n",
       "      <td>0.536166</td>\n",
       "      <td>0.571429</td>\n",
       "    </tr>\n",
       "    <tr>\n",
       "      <th>2</th>\n",
       "      <td>neutral</td>\n",
       "      <td>[[2662, 957], [1314, 1548]]</td>\n",
       "      <td>0.617964</td>\n",
       "      <td>0.540881</td>\n",
       "      <td>0.576859</td>\n",
       "    </tr>\n",
       "  </tbody>\n",
       "</table>\n",
       "</div>"
      ],
      "text/plain": [
       "  Categories             Confusion Matrix  Precision_RF  Recall_RF     F1_RF\n",
       "0   positive   [[4342, 497], [1243, 399]]      0.445312   0.242996  0.314421\n",
       "1   negative   [[3831, 673], [917, 1060]]      0.611656   0.536166  0.571429\n",
       "2    neutral  [[2662, 957], [1314, 1548]]      0.617964   0.540881  0.576859"
      ]
     },
     "execution_count": 69,
     "metadata": {},
     "output_type": "execute_result"
    }
   ],
   "source": [
    "from sklearn.ensemble import RandomForestClassifier\n",
    "\n",
    "vectorizer = CountVectorizer(stop_words='english',binary=False,max_df=.4, ngram_range=(1, 1),\n",
    "                                     min_df=1,strip_accents='unicode',max_features=200)\n",
    "\n",
    "featurizer = TfidfVectorizer(stop_words='english',binary=False,max_df=.4,min_df=1, max_features=200)\n",
    "X = featurizer.fit_transform(df_train.tweet)\n",
    "\n",
    "clf_RF = RandomForestClassifier()\n",
    "\n",
    "conmatrxRF = []\n",
    "precisionRF = []\n",
    "recallRF = []\n",
    "f1RF = []\n",
    "\n",
    "for category in categories:\n",
    "\n",
    "    y_train_pred = cross_val_predict(clf_RF, X, df_train[category], cv=5)\n",
    "    \n",
    "    cmRF = confusion_matrix(df_train[category], y_train_pred)\n",
    "    conmatrxRF.append(cmRF)\n",
    "    precRF = precision_score(df_train[category], y_train_pred)    \n",
    "    precisionRF.append(precRF)\n",
    "    recRF = recall_score(df_train[category], y_train_pred)\n",
    "    recallRF.append(recRF)\n",
    "    fRF = f1_score(df_train[category], y_train_pred)\n",
    "    f1RF.append(fRF)\n",
    "\n",
    "    \n",
    "dictRF = {'Categories':categories, 'Confusion Matrix':conmatrxRF, 'Precision_RF':precisionRF, \n",
    "           'Recall_RF':recallRF, 'F1_RF':f1RF}\n",
    "df_RF = pd.DataFrame(dictRF) \n",
    "#df_RF.to_csv('/Users/valery/Documents/Springboard/Capstone_2/Pretuned_Results/Results_RF_tweets.csv')\n",
    "\n",
    "df_RF_tweets = df_RF[df_RF['Precision_RF'] >= 0]\n",
    " \n",
    "df_RF_tweets"
   ]
  },
  {
   "cell_type": "markdown",
   "metadata": {},
   "source": [
    "## Gradient Boosting"
   ]
  },
  {
   "cell_type": "code",
   "execution_count": 96,
   "metadata": {},
   "outputs": [
    {
     "data": {
      "text/html": [
       "<div>\n",
       "<style scoped>\n",
       "    .dataframe tbody tr th:only-of-type {\n",
       "        vertical-align: middle;\n",
       "    }\n",
       "\n",
       "    .dataframe tbody tr th {\n",
       "        vertical-align: top;\n",
       "    }\n",
       "\n",
       "    .dataframe thead th {\n",
       "        text-align: right;\n",
       "    }\n",
       "</style>\n",
       "<table border=\"1\" class=\"dataframe\">\n",
       "  <thead>\n",
       "    <tr style=\"text-align: right;\">\n",
       "      <th></th>\n",
       "      <th>Categories</th>\n",
       "      <th>Confusion Matrix</th>\n",
       "      <th>Precision_GRD</th>\n",
       "      <th>Recall_GRD</th>\n",
       "      <th>F1_GRD</th>\n",
       "    </tr>\n",
       "  </thead>\n",
       "  <tbody>\n",
       "    <tr>\n",
       "      <th>0</th>\n",
       "      <td>positive</td>\n",
       "      <td>[[4720, 119], [1380, 262]]</td>\n",
       "      <td>0.687664</td>\n",
       "      <td>0.159562</td>\n",
       "      <td>0.259021</td>\n",
       "    </tr>\n",
       "    <tr>\n",
       "      <th>1</th>\n",
       "      <td>negative</td>\n",
       "      <td>[[4090, 414], [1075, 902]]</td>\n",
       "      <td>0.685410</td>\n",
       "      <td>0.456247</td>\n",
       "      <td>0.547829</td>\n",
       "    </tr>\n",
       "    <tr>\n",
       "      <th>2</th>\n",
       "      <td>neutral</td>\n",
       "      <td>[[2629, 990], [1097, 1765]]</td>\n",
       "      <td>0.640653</td>\n",
       "      <td>0.616702</td>\n",
       "      <td>0.628449</td>\n",
       "    </tr>\n",
       "  </tbody>\n",
       "</table>\n",
       "</div>"
      ],
      "text/plain": [
       "  Categories             Confusion Matrix  Precision_GRD  Recall_GRD    F1_GRD\n",
       "0   positive   [[4720, 119], [1380, 262]]       0.687664    0.159562  0.259021\n",
       "1   negative   [[4090, 414], [1075, 902]]       0.685410    0.456247  0.547829\n",
       "2    neutral  [[2629, 990], [1097, 1765]]       0.640653    0.616702  0.628449"
      ]
     },
     "execution_count": 96,
     "metadata": {},
     "output_type": "execute_result"
    }
   ],
   "source": [
    "from sklearn.ensemble import GradientBoostingClassifier\n",
    "\n",
    "vectorizer = CountVectorizer(stop_words='english',binary=False,max_df=.4, ngram_range=(1, 1),\n",
    "                                     min_df=1,strip_accents='unicode',max_features=200)\n",
    "\n",
    "featurizer = TfidfVectorizer(stop_words='english',binary=False,max_df=.4,min_df=1, max_features=200)\n",
    "X = featurizer.fit_transform(df_train.tweet)\n",
    "\n",
    "clf_GRD = GradientBoostingClassifier()\n",
    "\n",
    "conmatrxGRD = []\n",
    "precisionGRD = []\n",
    "recallGRD = []\n",
    "f1GRD = []\n",
    "\n",
    "for category in categories:\n",
    "\n",
    "    y_train_pred = cross_val_predict(clf_GRD, X, df_train[category], cv=5)\n",
    "    \n",
    "    cmGRD = confusion_matrix(df_train[category], y_train_pred)\n",
    "    conmatrxGRD.append(cmGRD)\n",
    "    precGRD = precision_score(df_train[category], y_train_pred)    \n",
    "    precisionGRD.append(precGRD)\n",
    "    recGRD = recall_score(df_train[category], y_train_pred)\n",
    "    recallGRD.append(recGRD)\n",
    "    fGRD = f1_score(df_train[category], y_train_pred)\n",
    "    f1GRD.append(fGRD)\n",
    "\n",
    "    \n",
    "dictGRD = {'Categories':categories, 'Confusion Matrix':conmatrxGRD, 'Precision_GRD':precisionGRD, \n",
    "           'Recall_GRD':recallGRD, 'F1_GRD':f1GRD}\n",
    "df_GRD = pd.DataFrame(dictGRD) \n",
    "#df_GRD.to_csv('/Users/valery/Documents/Springboard/Capstone_2/Pretuned_Results/Results_GRD_tweets.csv')\n",
    "\n",
    "df_GRD_tweets = df_GRD[df_GRD['Precision_GRD'] >= 0]\n",
    " \n",
    "df_GRD_tweets"
   ]
  },
  {
   "cell_type": "code",
   "execution_count": 72,
   "metadata": {},
   "outputs": [
    {
     "data": {
      "text/html": [
       "<div>\n",
       "<style scoped>\n",
       "    .dataframe tbody tr th:only-of-type {\n",
       "        vertical-align: middle;\n",
       "    }\n",
       "\n",
       "    .dataframe tbody tr th {\n",
       "        vertical-align: top;\n",
       "    }\n",
       "\n",
       "    .dataframe thead th {\n",
       "        text-align: right;\n",
       "    }\n",
       "</style>\n",
       "<table border=\"1\" class=\"dataframe\">\n",
       "  <thead>\n",
       "    <tr style=\"text-align: right;\">\n",
       "      <th></th>\n",
       "      <th>Categories</th>\n",
       "      <th>Precision_NB</th>\n",
       "      <th>Precision_SVC</th>\n",
       "      <th>Precision_LR</th>\n",
       "      <th>Precision_RF</th>\n",
       "      <th>Precision_GRD</th>\n",
       "      <th>Max_Precision</th>\n",
       "    </tr>\n",
       "  </thead>\n",
       "  <tbody>\n",
       "    <tr>\n",
       "      <th>0</th>\n",
       "      <td>positive</td>\n",
       "      <td>0.447917</td>\n",
       "      <td>0.533994</td>\n",
       "      <td>0.620482</td>\n",
       "      <td>0.445312</td>\n",
       "      <td>0.787356</td>\n",
       "      <td>0.787356</td>\n",
       "    </tr>\n",
       "    <tr>\n",
       "      <th>1</th>\n",
       "      <td>negative</td>\n",
       "      <td>0.594639</td>\n",
       "      <td>0.676311</td>\n",
       "      <td>0.691120</td>\n",
       "      <td>0.611656</td>\n",
       "      <td>0.671845</td>\n",
       "      <td>0.691120</td>\n",
       "    </tr>\n",
       "    <tr>\n",
       "      <th>2</th>\n",
       "      <td>neutral</td>\n",
       "      <td>0.673359</td>\n",
       "      <td>0.655144</td>\n",
       "      <td>0.665303</td>\n",
       "      <td>0.617964</td>\n",
       "      <td>0.591048</td>\n",
       "      <td>0.673359</td>\n",
       "    </tr>\n",
       "  </tbody>\n",
       "</table>\n",
       "</div>"
      ],
      "text/plain": [
       "  Categories  Precision_NB  Precision_SVC  Precision_LR  Precision_RF  \\\n",
       "0   positive      0.447917       0.533994      0.620482      0.445312   \n",
       "1   negative      0.594639       0.676311      0.691120      0.611656   \n",
       "2    neutral      0.673359       0.655144      0.665303      0.617964   \n",
       "\n",
       "   Precision_GRD  Max_Precision  \n",
       "0       0.787356       0.787356  \n",
       "1       0.671845       0.691120  \n",
       "2       0.591048       0.673359  "
      ]
     },
     "execution_count": 72,
     "metadata": {},
     "output_type": "execute_result"
    }
   ],
   "source": [
    "df_prec1 = pd.DataFrame(columns = ['Categories', 'Precision_NB', 'Precision_SVC', \n",
    "                                   'Precision_LR', 'Precision_RF', 'Precision_GRD', 'Max_Precision'])\n",
    "df_prec1.Categories = df_NB.Categories\n",
    "df_prec1.Precision_NB = df_NB.Precision_NB\n",
    "df_prec1.Precision_SVC  = df_SVC.Precision_SVC\n",
    "df_prec1.Precision_LR  = df_LR.Precision_LR\n",
    "df_prec1.Precision_RF = df_RF.Precision_RF\n",
    "df_prec1.Precision_GRD = df_GRD.Precision_GRD\n",
    "\n",
    "\n",
    "df_prec1.Max_Precision = df_prec1.max(axis=1)\n",
    "\n",
    "df_prec1.to_csv('/Users/valery/Documents/Springboard/Capstone_2/Pretuned_Results/Pretuned_Precision.csv')\n",
    "\n",
    "df_prec1"
   ]
  },
  {
   "cell_type": "code",
   "execution_count": 73,
   "metadata": {},
   "outputs": [
    {
     "data": {
      "text/html": [
       "<div>\n",
       "<style scoped>\n",
       "    .dataframe tbody tr th:only-of-type {\n",
       "        vertical-align: middle;\n",
       "    }\n",
       "\n",
       "    .dataframe tbody tr th {\n",
       "        vertical-align: top;\n",
       "    }\n",
       "\n",
       "    .dataframe thead th {\n",
       "        text-align: right;\n",
       "    }\n",
       "</style>\n",
       "<table border=\"1\" class=\"dataframe\">\n",
       "  <thead>\n",
       "    <tr style=\"text-align: right;\">\n",
       "      <th></th>\n",
       "      <th>Categories</th>\n",
       "      <th>Recall_NB</th>\n",
       "      <th>Recall_SVC</th>\n",
       "      <th>Recall_LR</th>\n",
       "      <th>Recall_RF</th>\n",
       "      <th>Recall_GRD</th>\n",
       "      <th>Max_Recall</th>\n",
       "    </tr>\n",
       "  </thead>\n",
       "  <tbody>\n",
       "    <tr>\n",
       "      <th>0</th>\n",
       "      <td>positive</td>\n",
       "      <td>0.340438</td>\n",
       "      <td>0.229598</td>\n",
       "      <td>0.188185</td>\n",
       "      <td>0.242996</td>\n",
       "      <td>0.083435</td>\n",
       "      <td>0.340438</td>\n",
       "    </tr>\n",
       "    <tr>\n",
       "      <th>1</th>\n",
       "      <td>negative</td>\n",
       "      <td>0.729388</td>\n",
       "      <td>0.567527</td>\n",
       "      <td>0.543247</td>\n",
       "      <td>0.536166</td>\n",
       "      <td>0.350025</td>\n",
       "      <td>0.729388</td>\n",
       "    </tr>\n",
       "    <tr>\n",
       "      <th>2</th>\n",
       "      <td>neutral</td>\n",
       "      <td>0.433613</td>\n",
       "      <td>0.549616</td>\n",
       "      <td>0.568134</td>\n",
       "      <td>0.540881</td>\n",
       "      <td>0.673655</td>\n",
       "      <td>0.673655</td>\n",
       "    </tr>\n",
       "  </tbody>\n",
       "</table>\n",
       "</div>"
      ],
      "text/plain": [
       "  Categories  Recall_NB  Recall_SVC  Recall_LR  Recall_RF  Recall_GRD  \\\n",
       "0   positive   0.340438    0.229598   0.188185   0.242996    0.083435   \n",
       "1   negative   0.729388    0.567527   0.543247   0.536166    0.350025   \n",
       "2    neutral   0.433613    0.549616   0.568134   0.540881    0.673655   \n",
       "\n",
       "   Max_Recall  \n",
       "0    0.340438  \n",
       "1    0.729388  \n",
       "2    0.673655  "
      ]
     },
     "execution_count": 73,
     "metadata": {},
     "output_type": "execute_result"
    }
   ],
   "source": [
    "df_rec = pd.DataFrame(columns = ['Categories', 'Recall_NB', 'Recall_SVC', \n",
    "                                   'Recall_LR', 'Recall_RF', 'Recall_GRD','Max_Recall'])\n",
    "df_rec.Categories = df_NB.Categories\n",
    "df_rec.Recall_NB = df_NB.Recall_NB\n",
    "df_rec.Recall_SVC  = df_SVC.Recall_SVC\n",
    "df_rec.Recall_LR  = df_LR.Recall_LR\n",
    "df_rec.Recall_RF = df_RF.Recall_RF\n",
    "df_rec.Recall_GRD = df_GRD.Recall_GRD\n",
    "df_rec.Max_Recall = df_rec.max(axis=1)\n",
    "\n",
    "df_rec.to_csv('/Users/valery/Documents/Springboard/Capstone_2/Pretuned_Results/Pretuned_Recall.csv')\n",
    "\n",
    "df_rec"
   ]
  },
  {
   "cell_type": "code",
   "execution_count": 39,
   "metadata": {},
   "outputs": [
    {
     "data": {
      "text/html": [
       "<div>\n",
       "<style scoped>\n",
       "    .dataframe tbody tr th:only-of-type {\n",
       "        vertical-align: middle;\n",
       "    }\n",
       "\n",
       "    .dataframe tbody tr th {\n",
       "        vertical-align: top;\n",
       "    }\n",
       "\n",
       "    .dataframe thead th {\n",
       "        text-align: right;\n",
       "    }\n",
       "</style>\n",
       "<table border=\"1\" class=\"dataframe\">\n",
       "  <thead>\n",
       "    <tr style=\"text-align: right;\">\n",
       "      <th></th>\n",
       "      <th>Categories</th>\n",
       "      <th>F1_NB</th>\n",
       "      <th>F1_SVC</th>\n",
       "      <th>F1_LR</th>\n",
       "      <th>F1_RF</th>\n",
       "      <th>F1_GRD</th>\n",
       "      <th>Max_F1</th>\n",
       "    </tr>\n",
       "  </thead>\n",
       "  <tbody>\n",
       "    <tr>\n",
       "      <th>0</th>\n",
       "      <td>positive</td>\n",
       "      <td>0.287852</td>\n",
       "      <td>0.321124</td>\n",
       "      <td>0.288785</td>\n",
       "      <td>0.331013</td>\n",
       "      <td>0.063011</td>\n",
       "      <td>0.331013</td>\n",
       "    </tr>\n",
       "    <tr>\n",
       "      <th>1</th>\n",
       "      <td>negative</td>\n",
       "      <td>0.622292</td>\n",
       "      <td>0.617162</td>\n",
       "      <td>0.608326</td>\n",
       "      <td>0.567753</td>\n",
       "      <td>0.070702</td>\n",
       "      <td>0.622292</td>\n",
       "    </tr>\n",
       "    <tr>\n",
       "      <th>2</th>\n",
       "      <td>neutral</td>\n",
       "      <td>0.528157</td>\n",
       "      <td>0.597758</td>\n",
       "      <td>0.612891</td>\n",
       "      <td>0.580085</td>\n",
       "      <td>0.109652</td>\n",
       "      <td>0.612891</td>\n",
       "    </tr>\n",
       "  </tbody>\n",
       "</table>\n",
       "</div>"
      ],
      "text/plain": [
       "  Categories     F1_NB    F1_SVC     F1_LR     F1_RF    F1_GRD    Max_F1\n",
       "0   positive  0.287852  0.321124  0.288785  0.331013  0.063011  0.331013\n",
       "1   negative  0.622292  0.617162  0.608326  0.567753  0.070702  0.622292\n",
       "2    neutral  0.528157  0.597758  0.612891  0.580085  0.109652  0.612891"
      ]
     },
     "execution_count": 39,
     "metadata": {},
     "output_type": "execute_result"
    }
   ],
   "source": [
    "df_f1 = pd.DataFrame(columns = ['Categories', 'F1_NB', 'F1_SVC', \n",
    "                                   'F1_LR', 'F1_RF','F1_GRD','Max_F1'])\n",
    "df_f1.Categories = df_NB.Categories\n",
    "df_f1.F1_NB = df_NB.F1_NB\n",
    "df_f1.F1_SVC  = df_SVC.F1_SVC\n",
    "df_f1.F1_LR  = df_LR.F1_LR\n",
    "df_f1.F1_RF  = df_RF.F1_RF\n",
    "df_f1.F1_GRD  = df_GRD.F1_GRD\n",
    "df_f1.Max_F1 = df_f1.max(axis=1)\n",
    "\n",
    "df_f1.to_csv('/Users/valery/Documents/Springboard/Capstone_2/Pretuned_Results/Pretuned_f1.csv')\n",
    "\n",
    "df_f1"
   ]
  },
  {
   "cell_type": "markdown",
   "metadata": {},
   "source": [
    "## Tune hyperparameters for NB"
   ]
  },
  {
   "cell_type": "code",
   "execution_count": 76,
   "metadata": {},
   "outputs": [
    {
     "name": "stdout",
     "output_type": "stream",
     "text": [
      "positive\n",
      "Best Alpha: 1 \n",
      "\n",
      "negative\n",
      "Best Alpha: 1e-05 \n",
      "\n",
      "neutral\n",
      "Best Alpha: 5 \n",
      "\n"
     ]
    }
   ],
   "source": [
    "from sklearn.model_selection import GridSearchCV\n",
    "vectorizer = CountVectorizer(stop_words='english',binary=False,max_df=.4, ngram_range=(1, 1),\n",
    "                                     min_df=1,strip_accents='unicode',max_features=200)\n",
    "X = vectorizer.fit_transform(df_train.tweet)\n",
    "\n",
    "clf_NB = MultinomialNB()\n",
    "\n",
    "\n",
    "alphas = [.00001,.0001, .001, .01, .1, 1, 5, 10, 50]\n",
    "\n",
    "\n",
    "    # Create hyperparameter options\n",
    "hyperparameters = dict(alpha=alphas)\n",
    "\n",
    "\n",
    "     # Create grid search using 5-fold cross validation\n",
    "clf_tune = GridSearchCV(clf_NB, hyperparameters, cv=5, scoring='recall')               \n",
    "\n",
    "for category in categories:\n",
    "    # Fit grid search\n",
    "    best_model = clf_tune.fit(X, df_train[category])                \n",
    "                \n",
    "    # View best hyperparameters\n",
    "    print(category)\n",
    "    #print('Best kernel:', best_model.best_estimator_.get_params()['kernel'])\n",
    "    print('Best Alpha:', best_model.best_estimator_.get_params()['alpha'], '\\n')\n"
   ]
  },
  {
   "cell_type": "markdown",
   "metadata": {},
   "source": [
    "## Train the tuned Multinomial NB"
   ]
  },
  {
   "cell_type": "code",
   "execution_count": 77,
   "metadata": {},
   "outputs": [
    {
     "data": {
      "text/html": [
       "<div>\n",
       "<style scoped>\n",
       "    .dataframe tbody tr th:only-of-type {\n",
       "        vertical-align: middle;\n",
       "    }\n",
       "\n",
       "    .dataframe tbody tr th {\n",
       "        vertical-align: top;\n",
       "    }\n",
       "\n",
       "    .dataframe thead th {\n",
       "        text-align: right;\n",
       "    }\n",
       "</style>\n",
       "<table border=\"1\" class=\"dataframe\">\n",
       "  <thead>\n",
       "    <tr style=\"text-align: right;\">\n",
       "      <th></th>\n",
       "      <th>Categories</th>\n",
       "      <th>Confusion Matrix</th>\n",
       "      <th>Precision_NB</th>\n",
       "      <th>Recall_NB</th>\n",
       "      <th>F1_NB</th>\n",
       "    </tr>\n",
       "  </thead>\n",
       "  <tbody>\n",
       "    <tr>\n",
       "      <th>0</th>\n",
       "      <td>positive</td>\n",
       "      <td>[[4150, 689], [1083, 559]]</td>\n",
       "      <td>0.447917</td>\n",
       "      <td>0.340438</td>\n",
       "      <td>0.386851</td>\n",
       "    </tr>\n",
       "    <tr>\n",
       "      <th>1</th>\n",
       "      <td>negative</td>\n",
       "      <td>[[3519, 985], [532, 1445]]</td>\n",
       "      <td>0.594650</td>\n",
       "      <td>0.730905</td>\n",
       "      <td>0.655775</td>\n",
       "    </tr>\n",
       "    <tr>\n",
       "      <th>2</th>\n",
       "      <td>neutral</td>\n",
       "      <td>[[3010, 609], [1613, 1249]]</td>\n",
       "      <td>0.672228</td>\n",
       "      <td>0.436408</td>\n",
       "      <td>0.529237</td>\n",
       "    </tr>\n",
       "  </tbody>\n",
       "</table>\n",
       "</div>"
      ],
      "text/plain": [
       "  Categories             Confusion Matrix  Precision_NB  Recall_NB     F1_NB\n",
       "0   positive   [[4150, 689], [1083, 559]]      0.447917   0.340438  0.386851\n",
       "1   negative   [[3519, 985], [532, 1445]]      0.594650   0.730905  0.655775\n",
       "2    neutral  [[3010, 609], [1613, 1249]]      0.672228   0.436408  0.529237"
      ]
     },
     "execution_count": 77,
     "metadata": {},
     "output_type": "execute_result"
    }
   ],
   "source": [
    "from sklearn.model_selection import GridSearchCV\n",
    "vectorizer = CountVectorizer(stop_words='english',binary=False,max_df=.4, ngram_range=(1, 1),\n",
    "                                     min_df=1,strip_accents='unicode',max_features=200)\n",
    "X = vectorizer.fit_transform(df_train.tweet)\n",
    "\n",
    "conmatrxNB = []\n",
    "precisionNB = []\n",
    "recallNB = []\n",
    "f1NB = []\n",
    "\n",
    "clf_NB = MultinomialNB()\n",
    "\n",
    "#Create grid of hyperparameters\n",
    "alphas = [.00001,.0001, .001, .01, .1, 1, 5, 10, 50]\n",
    "\n",
    "# Create hyperparameter options\n",
    "hyperparameters = dict(alpha=alphas)\n",
    "\n",
    "# Create grid search using 5-fold cross validation\n",
    "clf_tune = GridSearchCV(clf_NB, hyperparameters, cv=5, scoring='recall')        \n",
    "\n",
    "for category in categories:\n",
    "    \n",
    "    # Fit grid search\n",
    "    best_model = clf_tune.fit(X, df_train[category])                \n",
    "    alpha = best_model.best_estimator_.get_params()['alpha'] \n",
    "    \n",
    "    #Train the models\n",
    "    clf_tunedNB = MultinomialNB(alpha=alpha)\n",
    "            \n",
    "    y_train_pred = cross_val_predict(clf_tunedNB, X, df_train[category], cv=5)\n",
    "\n",
    "    \n",
    "    cmNB = confusion_matrix(df_train[category], y_train_pred)\n",
    "    conmatrxNB.append(cmNB)\n",
    "    precNB = precision_score(df_train[category], y_train_pred)    \n",
    "    precisionNB.append(precNB)\n",
    "    recNB = recall_score(df_train[category], y_train_pred)\n",
    "    recallNB.append(recNB)\n",
    "    fNB = f1_score(df_train[category], y_train_pred)\n",
    "    f1NB.append(fNB)\n",
    "\n",
    "    \n",
    "dictNB = {'Categories':categories, 'Confusion Matrix':conmatrxNB, 'Precision_NB':precisionNB, \n",
    "          'Recall_NB':recallNB, 'F1_NB':f1NB}\n",
    "\n",
    "df_NB = pd.DataFrame(dictNB) \n",
    "df_tunedNB_tweets = df_NB[df_NB['/Users/valery/Documents/Springboard/Capstone_2/Tuned_Results/Precision_NB'] >= 0]\n",
    " \n",
    "df_tunedNB_tweets\n"
   ]
  },
  {
   "cell_type": "code",
   "execution_count": null,
   "metadata": {},
   "outputs": [],
   "source": []
  },
  {
   "cell_type": "markdown",
   "metadata": {},
   "source": [
    "## Tune hyperparameters for SVC"
   ]
  },
  {
   "cell_type": "code",
   "execution_count": 94,
   "metadata": {},
   "outputs": [
    {
     "name": "stdout",
     "output_type": "stream",
     "text": [
      "positive\n",
      "Best loss: squared_hinge\n",
      "Best C: 1000 \n",
      "\n",
      "negative\n",
      "Best loss: squared_hinge\n",
      "Best C: 1000 \n",
      "\n",
      "neutral\n",
      "Best loss: hinge\n",
      "Best C: 10000 \n",
      "\n"
     ]
    }
   ],
   "source": [
    "from sklearn.model_selection import GridSearchCV\n",
    "\n",
    "vectorizer = CountVectorizer(stop_words='english',binary=False,max_df=.4, ngram_range=(1, 1),\n",
    "                                     min_df=1,strip_accents='unicode',max_features=200)\n",
    "\n",
    "featurizer = TfidfVectorizer(stop_words='english',binary=False,max_df=.4,min_df=1, max_features=200)\n",
    "X = vectorizer.fit_transform(df_train.tweet)\n",
    "\n",
    "clf_SVC = LinearSVC(random_state=42)\n",
    "\n",
    "\n",
    "loss = ['hinge', 'squared_hinge']\n",
    "#kernel = ['linear', 'rbf', 'poly']\n",
    "C = [1, 10, 100, 1000, 10000]\n",
    "\n",
    "\n",
    "    # Create hyperparameter options\n",
    "hyperparameters = dict(C=C, loss=loss)\n",
    "\n",
    "\n",
    "     # Create grid search using 5-fold cross validation\n",
    "clf_tune = GridSearchCV(clf_SVC, hyperparameters, cv=5, scoring='recall')               \n",
    "\n",
    "for category in categories:\n",
    "    # Fit grid search\n",
    "    best_model = clf_tune.fit(X, df_train[category])                \n",
    "                \n",
    "    # View best hyperparameters\n",
    "    print(category)\n",
    "    #print('Best kernel:', best_model.best_estimator_.get_params()['kernel'])\n",
    "    print('Best loss:', best_model.best_estimator_.get_params()['loss'])\n",
    "    print('Best C:', best_model.best_estimator_.get_params()['C'],'\\n')         \n"
   ]
  },
  {
   "cell_type": "markdown",
   "metadata": {},
   "source": [
    "## Train the tuned LinearSVC"
   ]
  },
  {
   "cell_type": "code",
   "execution_count": 95,
   "metadata": {},
   "outputs": [
    {
     "data": {
      "text/html": [
       "<div>\n",
       "<style scoped>\n",
       "    .dataframe tbody tr th:only-of-type {\n",
       "        vertical-align: middle;\n",
       "    }\n",
       "\n",
       "    .dataframe tbody tr th {\n",
       "        vertical-align: top;\n",
       "    }\n",
       "\n",
       "    .dataframe thead th {\n",
       "        text-align: right;\n",
       "    }\n",
       "</style>\n",
       "<table border=\"1\" class=\"dataframe\">\n",
       "  <thead>\n",
       "    <tr style=\"text-align: right;\">\n",
       "      <th></th>\n",
       "      <th>Categories</th>\n",
       "      <th>Confusion Matrix</th>\n",
       "      <th>Precision_SVC</th>\n",
       "      <th>Recall_SVC</th>\n",
       "      <th>F1_SVC</th>\n",
       "    </tr>\n",
       "  </thead>\n",
       "  <tbody>\n",
       "    <tr>\n",
       "      <th>0</th>\n",
       "      <td>positive</td>\n",
       "      <td>[[3281, 1558], [869, 773]]</td>\n",
       "      <td>0.331617</td>\n",
       "      <td>0.470767</td>\n",
       "      <td>0.389127</td>\n",
       "    </tr>\n",
       "    <tr>\n",
       "      <th>1</th>\n",
       "      <td>negative</td>\n",
       "      <td>[[3740, 764], [906, 1071]]</td>\n",
       "      <td>0.583651</td>\n",
       "      <td>0.541730</td>\n",
       "      <td>0.561910</td>\n",
       "    </tr>\n",
       "    <tr>\n",
       "      <th>2</th>\n",
       "      <td>neutral</td>\n",
       "      <td>[[1761, 1858], [928, 1934]]</td>\n",
       "      <td>0.510021</td>\n",
       "      <td>0.675751</td>\n",
       "      <td>0.581304</td>\n",
       "    </tr>\n",
       "  </tbody>\n",
       "</table>\n",
       "</div>"
      ],
      "text/plain": [
       "  Categories             Confusion Matrix  Precision_SVC  Recall_SVC    F1_SVC\n",
       "0   positive   [[3281, 1558], [869, 773]]       0.331617    0.470767  0.389127\n",
       "1   negative   [[3740, 764], [906, 1071]]       0.583651    0.541730  0.561910\n",
       "2    neutral  [[1761, 1858], [928, 1934]]       0.510021    0.675751  0.581304"
      ]
     },
     "execution_count": 95,
     "metadata": {},
     "output_type": "execute_result"
    }
   ],
   "source": [
    "vectorizer = CountVectorizer(stop_words='english',binary=False,max_df=.4, ngram_range=(1, 1),\n",
    "                                     min_df=1,strip_accents='unicode',max_features=200)\n",
    "\n",
    "featurizer = TfidfVectorizer(stop_words='english',binary=False,max_df=.4,min_df=1, max_features=200)\n",
    "X = vectorizer.fit_transform(df_train.tweet)\n",
    "\n",
    "clf_SVC = LinearSVC(random_state=42)\n",
    "\n",
    "\n",
    "#Prediciton with NB\n",
    "conmatrxSVC = []\n",
    "precisionSVC = []\n",
    "recallSVC = []\n",
    "f1SVC = []\n",
    "\n",
    "\n",
    "for category in categories:\n",
    "    if category == 'positive':\n",
    "        clf_tunedSVC = LinearSVC(random_state=42, loss='squared_hinge', C=1000)\n",
    "    if category == 'negative':\n",
    "        clf_tunedSVC = LinearSVC(random_state=42, loss='hinge', C=1000)\n",
    "    if category == 'neutral':\n",
    "        clf_tunedSVC = LinearSVC(random_state=42, loss='hinge', C=10000)\n",
    "    \n",
    "    y_train_pred = cross_val_predict(clf_tunedSVC, X, df_train[category], cv=5)\n",
    "\n",
    "    \n",
    "    cmSVC = confusion_matrix(df_train[category], y_train_pred)\n",
    "    conmatrxSVC.append(cmSVC)\n",
    "    precSVC = precision_score(df_train[category], y_train_pred)    \n",
    "    precisionSVC.append(precSVC)\n",
    "    recSVC = recall_score(df_train[category], y_train_pred)\n",
    "    recallSVC.append(recSVC)\n",
    "    fSVC = f1_score(df_train[category], y_train_pred)\n",
    "    f1SVC.append(fSVC)\n",
    "\n",
    "    \n",
    "dictSVC = {'Categories':categories, 'Confusion Matrix':conmatrxSVC, 'Precision_SVC':precisionSVC, \n",
    "           'Recall_SVC':recallSVC, 'F1_SVC':f1SVC}\n",
    "df_SVC = pd.DataFrame(dictSVC) \n",
    "#df_NB.to_csv('Results_NB_tweets.csv')\n",
    "\n",
    "df_tunedSVC_tweets = df_SVC[df_SVC['Precision_SVC'] >= 0]\n",
    " \n",
    "df_tunedSVC_tweets"
   ]
  },
  {
   "cell_type": "markdown",
   "metadata": {},
   "source": [
    "## tune hyperparameters for RF"
   ]
  },
  {
   "cell_type": "code",
   "execution_count": 92,
   "metadata": {},
   "outputs": [
    {
     "name": "stdout",
     "output_type": "stream",
     "text": [
      "positive\n",
      "Best n_estimators: 1 \n",
      "\n",
      "negative\n",
      "Best n_estimators: 100 \n",
      "\n",
      "neutral\n",
      "Best n_estimators: 8 \n",
      "\n"
     ]
    }
   ],
   "source": [
    "vectorizer = CountVectorizer(stop_words='english',binary=False,max_df=.4, ngram_range=(1, 1),\n",
    "                                     min_df=1,strip_accents='unicode',max_features=200)\n",
    "\n",
    "featurizer = TfidfVectorizer(stop_words='english',binary=False,max_df=.4,min_df=1, max_features=200)\n",
    "X = vectorizer.fit_transform(df_train.tweet)\n",
    "\n",
    "\n",
    "clf_RF = RandomForestClassifier(random_state=42)\n",
    "\n",
    "\n",
    "n_estimators = [1, 2, 4, 8, 16, 32, 64, 100, 200]\n",
    "#max_depth = [1, 2, 3]\n",
    "\n",
    "    # Create hyperparameter options\n",
    "hyperparameters = dict(n_estimators=n_estimators)\n",
    "\n",
    "\n",
    "     # Create grid search using 5-fold cross validation\n",
    "clf_tune = GridSearchCV(clf_RF, hyperparameters, cv=5, scoring='recall')               \n",
    "\n",
    "for category in categories:\n",
    "    # Fit grid search\n",
    "    best_model = clf_tune.fit(X, df_train[category])                \n",
    "                \n",
    "    # View best hyperparameters\n",
    "    print(category)\n",
    "    #print('Best max_depth:', best_model.best_estimator_.get_params()['max_depth'])\n",
    "    print('Best n_estimators:', best_model.best_estimator_.get_params()['n_estimators'],'\\n')\n",
    "            \n"
   ]
  },
  {
   "cell_type": "markdown",
   "metadata": {},
   "source": [
    "## Train the tuned RandomForest"
   ]
  },
  {
   "cell_type": "code",
   "execution_count": 93,
   "metadata": {},
   "outputs": [
    {
     "data": {
      "text/html": [
       "<div>\n",
       "<style scoped>\n",
       "    .dataframe tbody tr th:only-of-type {\n",
       "        vertical-align: middle;\n",
       "    }\n",
       "\n",
       "    .dataframe tbody tr th {\n",
       "        vertical-align: top;\n",
       "    }\n",
       "\n",
       "    .dataframe thead th {\n",
       "        text-align: right;\n",
       "    }\n",
       "</style>\n",
       "<table border=\"1\" class=\"dataframe\">\n",
       "  <thead>\n",
       "    <tr style=\"text-align: right;\">\n",
       "      <th></th>\n",
       "      <th>Categories</th>\n",
       "      <th>Confusion Matrix</th>\n",
       "      <th>Precision_RF</th>\n",
       "      <th>Recall_RF</th>\n",
       "      <th>F1_RF</th>\n",
       "    </tr>\n",
       "  </thead>\n",
       "  <tbody>\n",
       "    <tr>\n",
       "      <th>0</th>\n",
       "      <td>positive</td>\n",
       "      <td>[[4058, 781], [1151, 491]]</td>\n",
       "      <td>0.386006</td>\n",
       "      <td>0.299026</td>\n",
       "      <td>0.336994</td>\n",
       "    </tr>\n",
       "    <tr>\n",
       "      <th>1</th>\n",
       "      <td>negative</td>\n",
       "      <td>[[3801, 703], [841, 1136]]</td>\n",
       "      <td>0.617727</td>\n",
       "      <td>0.574608</td>\n",
       "      <td>0.595388</td>\n",
       "    </tr>\n",
       "    <tr>\n",
       "      <th>2</th>\n",
       "      <td>neutral</td>\n",
       "      <td>[[2475, 1144], [1136, 1726]]</td>\n",
       "      <td>0.601394</td>\n",
       "      <td>0.603075</td>\n",
       "      <td>0.602233</td>\n",
       "    </tr>\n",
       "  </tbody>\n",
       "</table>\n",
       "</div>"
      ],
      "text/plain": [
       "  Categories              Confusion Matrix  Precision_RF  Recall_RF     F1_RF\n",
       "0   positive    [[4058, 781], [1151, 491]]      0.386006   0.299026  0.336994\n",
       "1   negative    [[3801, 703], [841, 1136]]      0.617727   0.574608  0.595388\n",
       "2    neutral  [[2475, 1144], [1136, 1726]]      0.601394   0.603075  0.602233"
      ]
     },
     "execution_count": 93,
     "metadata": {},
     "output_type": "execute_result"
    }
   ],
   "source": [
    "vectorizer = CountVectorizer(stop_words='english',binary=False,max_df=.4, ngram_range=(1, 1),\n",
    "                                     min_df=1,strip_accents='unicode',max_features=200)\n",
    "\n",
    "featurizer = TfidfVectorizer(stop_words='english',binary=False,max_df=.4,min_df=1, max_features=200)\n",
    "X = vectorizer.fit_transform(df_train.tweet)\n",
    "\n",
    "\n",
    "\n",
    "#Prediciton with NB\n",
    "conmatrxRF = []\n",
    "precisionRF = []\n",
    "recallRF = []\n",
    "f1RF = []\n",
    "\n",
    "\n",
    "for category in categories:\n",
    "    if category == 'positive':\n",
    "        clf_tunedRF = RandomForestClassifier(random_state=42, n_estimators=1)\n",
    "    if category == 'negative':\n",
    "        clf_tunedRF = RandomForestClassifier(random_state=42, n_estimators=100)\n",
    "    if category == 'neutral':\n",
    "        clf_tunedRF= RandomForestClassifier(random_state=42, n_estimators=8)\n",
    "    \n",
    "    y_train_pred = cross_val_predict(clf_tunedRF, X, df_train[category], cv=5)\n",
    "\n",
    "    \n",
    "    cmRF = confusion_matrix(df_train[category], y_train_pred)\n",
    "    conmatrxRF.append(cmRF)\n",
    "    precRF = precision_score(df_train[category], y_train_pred)    \n",
    "    precisionRF.append(precRF)\n",
    "    recRF = recall_score(df_train[category], y_train_pred)\n",
    "    recallRF.append(recRF)\n",
    "    fRF = f1_score(df_train[category], y_train_pred)\n",
    "    f1RF.append(fRF)\n",
    "\n",
    "    \n",
    "dictRF = {'Categories':categories, 'Confusion Matrix':conmatrxRF, 'Precision_RF':precisionRF, \n",
    "           'Recall_RF':recallRF, 'F1_RF':f1RF}\n",
    "df_RF = pd.DataFrame(dictRF) \n",
    "#df_NB.to_csv('Results_NB_tweets.csv')\n",
    "\n",
    "df_tunedRF_tweets = df_RF[df_RF['Precision_RF'] >= 0]\n",
    " \n",
    "df_tunedRF_tweets"
   ]
  },
  {
   "cell_type": "markdown",
   "metadata": {},
   "source": [
    "## Tune hyperparameters for GRD"
   ]
  },
  {
   "cell_type": "code",
   "execution_count": 98,
   "metadata": {},
   "outputs": [
    {
     "name": "stdout",
     "output_type": "stream",
     "text": [
      "positive\n",
      "Best loss: deviance\n",
      "Best n_estimators: 200 \n",
      "\n",
      "negative\n",
      "Best loss: deviance\n",
      "Best n_estimators: 200 \n",
      "\n",
      "neutral\n",
      "Best loss: exponential\n",
      "Best n_estimators: 16 \n",
      "\n"
     ]
    }
   ],
   "source": [
    "vectorizer = CountVectorizer(stop_words='english',binary=False,max_df=.4, ngram_range=(1, 1),\n",
    "                                     min_df=1,strip_accents='unicode',max_features=200)\n",
    "\n",
    "featurizer = TfidfVectorizer(stop_words='english',binary=False,max_df=.4,min_df=1, max_features=200)\n",
    "X = featurizer.fit_transform(df_train.tweet)\n",
    "\n",
    "\n",
    "clf_GRD = GradientBoostingClassifier(random_state=42)\n",
    "\n",
    "loss=['deviance', 'exponential']\n",
    "n_estimators = [1, 2, 4, 8, 16, 32, 64, 100, 200]\n",
    "\n",
    "\n",
    "    # Create hyperparameter options\n",
    "hyperparameters = dict(loss=loss, n_estimators=n_estimators)\n",
    "\n",
    "\n",
    "     # Create grid search using 5-fold cross validation\n",
    "clf_tune = GridSearchCV(clf_GRD, hyperparameters, cv=5, scoring='recall')               \n",
    "\n",
    "for category in categories:\n",
    "    # Fit grid search\n",
    "    best_model = clf_tune.fit(X, df_train[category])                \n",
    "                \n",
    "    # View best hyperparameters\n",
    "    print(category)\n",
    "    print('Best loss:', best_model.best_estimator_.get_params()['loss'])\n",
    "    print('Best n_estimators:', best_model.best_estimator_.get_params()['n_estimators'],'\\n')\n",
    "            \n"
   ]
  },
  {
   "cell_type": "markdown",
   "metadata": {},
   "source": [
    "## Train the tuned Gradient Boosting"
   ]
  },
  {
   "cell_type": "code",
   "execution_count": 101,
   "metadata": {},
   "outputs": [
    {
     "data": {
      "text/html": [
       "<div>\n",
       "<style scoped>\n",
       "    .dataframe tbody tr th:only-of-type {\n",
       "        vertical-align: middle;\n",
       "    }\n",
       "\n",
       "    .dataframe tbody tr th {\n",
       "        vertical-align: top;\n",
       "    }\n",
       "\n",
       "    .dataframe thead th {\n",
       "        text-align: right;\n",
       "    }\n",
       "</style>\n",
       "<table border=\"1\" class=\"dataframe\">\n",
       "  <thead>\n",
       "    <tr style=\"text-align: right;\">\n",
       "      <th></th>\n",
       "      <th>Categories</th>\n",
       "      <th>Confusion Matrix</th>\n",
       "      <th>Precision_GRD</th>\n",
       "      <th>Recall_GRD</th>\n",
       "      <th>F1_GRD</th>\n",
       "    </tr>\n",
       "  </thead>\n",
       "  <tbody>\n",
       "    <tr>\n",
       "      <th>0</th>\n",
       "      <td>positive</td>\n",
       "      <td>[[4559, 280], [1329, 313]]</td>\n",
       "      <td>0.527825</td>\n",
       "      <td>0.190621</td>\n",
       "      <td>0.280089</td>\n",
       "    </tr>\n",
       "    <tr>\n",
       "      <th>1</th>\n",
       "      <td>negative</td>\n",
       "      <td>[[4088, 416], [1018, 959]]</td>\n",
       "      <td>0.697455</td>\n",
       "      <td>0.485078</td>\n",
       "      <td>0.572196</td>\n",
       "    </tr>\n",
       "    <tr>\n",
       "      <th>2</th>\n",
       "      <td>neutral</td>\n",
       "      <td>[[2309, 1310], [941, 1921]]</td>\n",
       "      <td>0.594553</td>\n",
       "      <td>0.671209</td>\n",
       "      <td>0.630560</td>\n",
       "    </tr>\n",
       "  </tbody>\n",
       "</table>\n",
       "</div>"
      ],
      "text/plain": [
       "  Categories             Confusion Matrix  Precision_GRD  Recall_GRD    F1_GRD\n",
       "0   positive   [[4559, 280], [1329, 313]]       0.527825    0.190621  0.280089\n",
       "1   negative   [[4088, 416], [1018, 959]]       0.697455    0.485078  0.572196\n",
       "2    neutral  [[2309, 1310], [941, 1921]]       0.594553    0.671209  0.630560"
      ]
     },
     "execution_count": 101,
     "metadata": {},
     "output_type": "execute_result"
    }
   ],
   "source": [
    "vectorizer = CountVectorizer(stop_words='english',binary=False,max_df=.4, ngram_range=(1, 1),\n",
    "                                     min_df=1,strip_accents='unicode',max_features=200)\n",
    "\n",
    "featurizer = TfidfVectorizer(stop_words='english',binary=False,max_df=.4,min_df=1, max_features=200)\n",
    "X = vectorizer.fit_transform(df_train.tweet)\n",
    "\n",
    "#Prediciton with NB\n",
    "conmatrxGRD = []\n",
    "precisionGRD = []\n",
    "recallGRD = []\n",
    "f1GRD = []\n",
    "\n",
    "for category in categories:\n",
    "    if category == 'positive':\n",
    "        clf_tunedGRD = GradientBoostingClassifier(random_state=42, loss='deviance', n_estimators=200)\n",
    "    if category == 'negative':\n",
    "        clf_tunedGRD = GradientBoostingClassifier(random_state=42, loss='deviance', n_estimators=200)\n",
    "    if category == 'neutral':\n",
    "        clf_tunedGRD= GradientBoostingClassifier(random_state=42, loss='exponential', n_estimators=16)\n",
    "    \n",
    "    y_train_pred = cross_val_predict(clf_tunedGRD, X, df_train[category], cv=5)\n",
    "\n",
    "    \n",
    "    cmGRD = confusion_matrix(df_train[category], y_train_pred)\n",
    "    conmatrxGRD.append(cmGRD)\n",
    "    precGRD = precision_score(df_train[category], y_train_pred)    \n",
    "    precisionGRD.append(precGRD)\n",
    "    recGRD = recall_score(df_train[category], y_train_pred)\n",
    "    recallGRD.append(recGRD)\n",
    "    fGRD = f1_score(df_train[category], y_train_pred)\n",
    "    f1GRD.append(fGRD)\n",
    "\n",
    "    \n",
    "dictGRD = {'Categories':categories, 'Confusion Matrix':conmatrxGRD, 'Precision_GRD':precisionGRD, \n",
    "           'Recall_GRD':recallGRD, 'F1_GRD':f1GRD}\n",
    "df_GRD = pd.DataFrame(dictGRD) \n",
    "#df_NB.to_csv('Results_NB_tweets.csv')\n",
    "\n",
    "df_tunedGRD_tweets = df_GRD[df_GRD['Precision_GRD'] >= 0]\n",
    " \n",
    "df_tunedGRD_tweets\n"
   ]
  },
  {
   "cell_type": "code",
   "execution_count": null,
   "metadata": {},
   "outputs": [],
   "source": []
  },
  {
   "cell_type": "markdown",
   "metadata": {},
   "source": [
    "## Tune hyperparameters for LR\n",
    "\n",
    "The ‘newton-cg’, ‘sag’ and ‘lbfgs’ solvers support only l2 penalties. I will first leave out the solver and check for the best penalty. The I will choose the solvers that best run with that penalty.\n",
    "\n"
   ]
  },
  {
   "cell_type": "code",
   "execution_count": 141,
   "metadata": {},
   "outputs": [
    {
     "name": "stdout",
     "output_type": "stream",
     "text": [
      "positive\n",
      "Best penalty: l1\n",
      "Best C: 78.47599703514607 \n",
      "\n",
      "negative\n",
      "Best penalty: l1\n",
      "Best C: 78.47599703514607 \n",
      "\n",
      "neutral\n",
      "Best penalty: l1\n",
      "Best C: 0.615848211066026 \n",
      "\n"
     ]
    }
   ],
   "source": [
    "from sklearn.model_selection import GridSearchCV\n",
    "\n",
    "#silence warnings about default solver changing to 'lbfgs'\n",
    "import warnings\n",
    "warnings.filterwarnings(\"ignore\")\n",
    "\n",
    "vectorizer = CountVectorizer(stop_words='english',binary=False,max_df=.4, ngram_range=(1, 1),\n",
    "                                     min_df=1,strip_accents='unicode',max_features=200)\n",
    "\n",
    "X = featurizer.fit_transform(df_train.tweet)\n",
    "\n",
    "\n",
    "\n",
    "clf_LR2 = LogisticRegression(random_state=42)\n",
    "\n",
    "    # Create regularization penalty space\n",
    "penalty = ['l1', 'l2']\n",
    "\n",
    "    # Create regularization hyperparameter space\n",
    "C = np.logspace(-4, 4, 20)\n",
    "\n",
    "\n",
    "    # Create hyperparameter options\n",
    "hyperparameters = dict(penalty = penalty, C=C)\n",
    "\n",
    "\n",
    "     # Create grid search using 5-fold cross validation\n",
    "clf_tune = GridSearchCV(clf_LR2, hyperparameters, cv=5, verbose=0, scoring='recall')               \n",
    "\n",
    "for category in categories:\n",
    "    # Fit grid search\n",
    "    best_model = clf_tune.fit(X, df_train[category])                \n",
    "                \n",
    "    # View best hyperparameters\n",
    "    print(category)\n",
    "    print('Best penalty:', best_model.best_estimator_.get_params()['penalty'])\n",
    "    print('Best C:', best_model.best_estimator_.get_params()['C'],'\\n')         \n"
   ]
  },
  {
   "cell_type": "code",
   "execution_count": 138,
   "metadata": {},
   "outputs": [
    {
     "name": "stdout",
     "output_type": "stream",
     "text": [
      "positive\n",
      "Best solver: sag\n",
      "Best C: 206.913808111479 \n",
      "\n",
      "negative\n",
      "Best solver: lbfgs\n",
      "Best C: 10000.0 \n",
      "\n",
      "neutral\n",
      "Best solver: sag\n",
      "Best C: 0.03359818286283781 \n",
      "\n"
     ]
    }
   ],
   "source": [
    "\n",
    "\n",
    "vectorizer = CountVectorizer(stop_words='english',binary=False,max_df=.4, ngram_range=(1, 1),\n",
    "                                     min_df=1,strip_accents='unicode',max_features=200)\n",
    "X = vectorizer.fit_transform(df_train.tweet)\n",
    "\n",
    "\n",
    "clf_LR3 = LogisticRegression()\n",
    "\n",
    "#The ‘newton-cg’, ‘sag’ and ‘lbfgs’ solvers support only l2 penalties.\n",
    "\n",
    "    # Create regularization penalty space\n",
    "penalty = ['l2']\n",
    "\n",
    "    # Create regularization hyperparameter space\n",
    "C = np.logspace(-4, 4, 20)\n",
    "\n",
    "solver = ['liblinear', 'sag', 'newton-cg', 'saga', 'lbfgs']\n",
    "\n",
    "\n",
    "    # Create hyperparameter options\n",
    "hyperparameters = dict(solver = solver, C=C)\n",
    "\n",
    "\n",
    "     # Create grid search using 5-fold cross validation\n",
    "clf_tuneLR = GridSearchCV(clf_LR3, hyperparameters, cv=5, verbose=0, scoring='recall')               \n",
    "\n",
    "for category in categories:\n",
    "    # Fit grid search\n",
    "    best_model = clf_tuneLR.fit(X, df_train[category])                \n",
    "                \n",
    "    # View best hyperparameters\n",
    "    print(category)\n",
    "    print('Best solver:', best_model.best_estimator_.get_params()['solver'])\n",
    "    print('Best C:', best_model.best_estimator_.get_params()['C'],'\\n')         \n"
   ]
  },
  {
   "cell_type": "markdown",
   "metadata": {},
   "source": [
    "OK, we have a different combination for each label. I will run each separately and examine the differences before predicting on the rately and examine the differences before predicting on the unlabeled data."
   ]
  },
  {
   "cell_type": "markdown",
   "metadata": {},
   "source": [
    "\n",
    "#Prediciton with LR\n",
    "conmatrxLR = []\n",
    "precisionLR = []\n",
    "recallLR = []\n",
    "f1LR = []\n",
    "\n",
    "\n",
    "for category in categories:\n",
    "    if category == 'positive':\n",
    "        clf_tuned = LogisticRegression(penalty='l2',C=206.913808111479 ,  solver='sag')\n",
    "    if category == 'negative':\n",
    "        clf_tuned = LogisticRegression(penalty='l2', C=10000, solver='lbfgs')\n",
    "    if category == 'neutral':\n",
    "        clf_tuned = LogisticRegression(penalty='l1', C=0.03359818286283781)\n",
    "    \n",
    "    y_train_pred = cross_val_predict(clf_tuned, X, df_train[category], cv=5)\n",
    "    \n",
    "    cmLR = confusion_matrix(df_train[category], y_train_pred)\n",
    "    conmatrxLR.append(cmLR)\n",
    "    precLR = precision_score(df_train[category], y_train_pred)    \n",
    "    precisionLR.append(precLR)\n",
    "    recLR = recall_score(df_train[category], y_train_pred)\n",
    "    recallLR.append(recLR)\n",
    "    fLR = f1_score(df_train[category], y_train_pred)\n",
    "    f1LR.append(fLR)\n",
    "\n",
    "dictLR = {'Categories':categories, 'Confusion Matrix':conmatrxLR, 'Precision_LR':precisionLR, \n",
    "           'Recall_LR':recallLR, 'F1':f1LR}\n",
    "df_LR = pd.DataFrame(dictLR) \n",
    "#df_NB.to_csv('Results_NB_tweets.csv')\n",
    "\n",
    "df_tunedLR_tweets = df_LR[df_LR['Precision_LR'] >= 0]\n",
    " \n",
    "\n",
    "df_tunedLR_tweets\n"
   ]
  },
  {
   "cell_type": "code",
   "execution_count": 142,
   "metadata": {},
   "outputs": [
    {
     "data": {
      "text/html": [
       "<div>\n",
       "<style scoped>\n",
       "    .dataframe tbody tr th:only-of-type {\n",
       "        vertical-align: middle;\n",
       "    }\n",
       "\n",
       "    .dataframe tbody tr th {\n",
       "        vertical-align: top;\n",
       "    }\n",
       "\n",
       "    .dataframe thead th {\n",
       "        text-align: right;\n",
       "    }\n",
       "</style>\n",
       "<table border=\"1\" class=\"dataframe\">\n",
       "  <thead>\n",
       "    <tr style=\"text-align: right;\">\n",
       "      <th></th>\n",
       "      <th>Categories</th>\n",
       "      <th>Confusion Matrix</th>\n",
       "      <th>Precision_LR</th>\n",
       "      <th>Recall_LR</th>\n",
       "      <th>F1</th>\n",
       "    </tr>\n",
       "  </thead>\n",
       "  <tbody>\n",
       "    <tr>\n",
       "      <th>0</th>\n",
       "      <td>positive</td>\n",
       "      <td>[[4448, 391], [1237, 405]]</td>\n",
       "      <td>0.508794</td>\n",
       "      <td>0.246650</td>\n",
       "      <td>0.332240</td>\n",
       "    </tr>\n",
       "    <tr>\n",
       "      <th>1</th>\n",
       "      <td>negative</td>\n",
       "      <td>[[3938, 566], [835, 1142]]</td>\n",
       "      <td>0.668618</td>\n",
       "      <td>0.577643</td>\n",
       "      <td>0.619810</td>\n",
       "    </tr>\n",
       "    <tr>\n",
       "      <th>2</th>\n",
       "      <td>neutral</td>\n",
       "      <td>[[2707, 912], [1131, 1731]]</td>\n",
       "      <td>0.654938</td>\n",
       "      <td>0.604822</td>\n",
       "      <td>0.628883</td>\n",
       "    </tr>\n",
       "  </tbody>\n",
       "</table>\n",
       "</div>"
      ],
      "text/plain": [
       "  Categories             Confusion Matrix  Precision_LR  Recall_LR        F1\n",
       "0   positive   [[4448, 391], [1237, 405]]      0.508794   0.246650  0.332240\n",
       "1   negative   [[3938, 566], [835, 1142]]      0.668618   0.577643  0.619810\n",
       "2    neutral  [[2707, 912], [1131, 1731]]      0.654938   0.604822  0.628883"
      ]
     },
     "execution_count": 142,
     "metadata": {},
     "output_type": "execute_result"
    }
   ],
   "source": [
    "\n",
    "#Prediciton with LR\n",
    "conmatrxLR = []\n",
    "precisionLR = []\n",
    "recallLR = []\n",
    "f1LR = []\n",
    "\n",
    "\n",
    "for category in categories:\n",
    "    if category == 'positive':\n",
    "        clf_tuned = LogisticRegression(penalty='l1',C=78.47599703514607)\n",
    "    if category == 'negative':\n",
    "        clf_tuned = LogisticRegression(penalty='l1', C=78.47599703514607)\n",
    "    if category == 'neutral':\n",
    "        clf_tuned = LogisticRegression(penalty='l1', C=0.615848211066026)\n",
    "    \n",
    "    y_train_pred = cross_val_predict(clf_tuned, X, df_train[category], cv=5)\n",
    "    \n",
    "    cmLR = confusion_matrix(df_train[category], y_train_pred)\n",
    "    conmatrxLR.append(cmLR)\n",
    "    precLR = precision_score(df_train[category], y_train_pred)    \n",
    "    precisionLR.append(precLR)\n",
    "    recLR = recall_score(df_train[category], y_train_pred)\n",
    "    recallLR.append(recLR)\n",
    "    fLR = f1_score(df_train[category], y_train_pred)\n",
    "    f1LR.append(fLR)\n",
    "\n",
    "dictLR = {'Categories':categories, 'Confusion Matrix':conmatrxLR, 'Precision_LR':precisionLR, \n",
    "           'Recall_LR':recallLR, 'F1':f1LR}\n",
    "df_LR = pd.DataFrame(dictLR) \n",
    "#df_NB.to_csv('Results_NB_tweets.csv')\n",
    "\n",
    "df_tunedLR_tweets = df_LR[df_LR['Precision_LR'] >= 0]\n",
    " \n",
    "\n",
    "df_tunedLR_tweets\n"
   ]
  },
  {
   "cell_type": "markdown",
   "metadata": {},
   "source": [
    "### Compare tuned algorithms"
   ]
  },
  {
   "cell_type": "code",
   "execution_count": 105,
   "metadata": {},
   "outputs": [
    {
     "data": {
      "text/html": [
       "<div>\n",
       "<style scoped>\n",
       "    .dataframe tbody tr th:only-of-type {\n",
       "        vertical-align: middle;\n",
       "    }\n",
       "\n",
       "    .dataframe tbody tr th {\n",
       "        vertical-align: top;\n",
       "    }\n",
       "\n",
       "    .dataframe thead th {\n",
       "        text-align: right;\n",
       "    }\n",
       "</style>\n",
       "<table border=\"1\" class=\"dataframe\">\n",
       "  <thead>\n",
       "    <tr style=\"text-align: right;\">\n",
       "      <th></th>\n",
       "      <th>Categories</th>\n",
       "      <th>Precision_SVC</th>\n",
       "      <th>Precision_LR</th>\n",
       "      <th>Precision_RF</th>\n",
       "      <th>Max_Precision</th>\n",
       "    </tr>\n",
       "  </thead>\n",
       "  <tbody>\n",
       "    <tr>\n",
       "      <th>0</th>\n",
       "      <td>positive</td>\n",
       "      <td>0.331617</td>\n",
       "      <td>0.514763</td>\n",
       "      <td>0.386006</td>\n",
       "      <td>0.514763</td>\n",
       "    </tr>\n",
       "    <tr>\n",
       "      <th>1</th>\n",
       "      <td>negative</td>\n",
       "      <td>0.583651</td>\n",
       "      <td>0.692464</td>\n",
       "      <td>0.617727</td>\n",
       "      <td>0.692464</td>\n",
       "    </tr>\n",
       "    <tr>\n",
       "      <th>2</th>\n",
       "      <td>neutral</td>\n",
       "      <td>0.510021</td>\n",
       "      <td>0.572049</td>\n",
       "      <td>0.601394</td>\n",
       "      <td>0.601394</td>\n",
       "    </tr>\n",
       "  </tbody>\n",
       "</table>\n",
       "</div>"
      ],
      "text/plain": [
       "  Categories  Precision_SVC  Precision_LR  Precision_RF  Max_Precision\n",
       "0   positive       0.331617      0.514763      0.386006       0.514763\n",
       "1   negative       0.583651      0.692464      0.617727       0.692464\n",
       "2    neutral       0.510021      0.572049      0.601394       0.601394"
      ]
     },
     "execution_count": 105,
     "metadata": {},
     "output_type": "execute_result"
    }
   ],
   "source": [
    "df_tunedprec1 = pd.DataFrame(columns = ['Categories', 'Precision_SVC', \n",
    "                                   'Precision_LR', 'Precision_RF','Max_Precision'])\n",
    "df_tunedprec1.Categories = df_NB.Categories\n",
    "df_tunedprec1.Precision_SVC  = df_tunedSVC_tweets.Precision_SVC\n",
    "df_tunedprec1.Precision_LR  = df_tunedLR_tweets.Precision_LR\n",
    "df_tunedprec1.Precision_RF = df_tunedRF_tweets.Precision_RF\n",
    "df_tunedprec1.Max_Precision = df_tunedprec1.max(axis=1)\n",
    "\n",
    "df_tunedprec1.to_csv('/Users/valery/Documents/Springboard/Capstone_2/Tuned_Results/Tuned_Precision.csv')\n",
    "\n",
    "df_tunedprec1"
   ]
  },
  {
   "cell_type": "markdown",
   "metadata": {},
   "source": [
    "The best precision was obtained with the tuned LR model. "
   ]
  },
  {
   "cell_type": "code",
   "execution_count": 108,
   "metadata": {},
   "outputs": [
    {
     "data": {
      "text/html": [
       "<div>\n",
       "<style scoped>\n",
       "    .dataframe tbody tr th:only-of-type {\n",
       "        vertical-align: middle;\n",
       "    }\n",
       "\n",
       "    .dataframe tbody tr th {\n",
       "        vertical-align: top;\n",
       "    }\n",
       "\n",
       "    .dataframe thead th {\n",
       "        text-align: right;\n",
       "    }\n",
       "</style>\n",
       "<table border=\"1\" class=\"dataframe\">\n",
       "  <thead>\n",
       "    <tr style=\"text-align: right;\">\n",
       "      <th></th>\n",
       "      <th>Categories</th>\n",
       "      <th>Recall_NB</th>\n",
       "      <th>Recall_SVC</th>\n",
       "      <th>Recall_LR</th>\n",
       "      <th>Recall_RF</th>\n",
       "      <th>Recall_GRD</th>\n",
       "      <th>Max_Recall</th>\n",
       "    </tr>\n",
       "  </thead>\n",
       "  <tbody>\n",
       "    <tr>\n",
       "      <th>0</th>\n",
       "      <td>positive</td>\n",
       "      <td>0.340438</td>\n",
       "      <td>0.470767</td>\n",
       "      <td>0.244214</td>\n",
       "      <td>0.299026</td>\n",
       "      <td>0.190621</td>\n",
       "      <td>0.470767</td>\n",
       "    </tr>\n",
       "    <tr>\n",
       "      <th>1</th>\n",
       "      <td>negative</td>\n",
       "      <td>0.730905</td>\n",
       "      <td>0.541730</td>\n",
       "      <td>0.515933</td>\n",
       "      <td>0.574608</td>\n",
       "      <td>0.485078</td>\n",
       "      <td>0.730905</td>\n",
       "    </tr>\n",
       "    <tr>\n",
       "      <th>2</th>\n",
       "      <td>neutral</td>\n",
       "      <td>0.436408</td>\n",
       "      <td>0.675751</td>\n",
       "      <td>0.690776</td>\n",
       "      <td>0.603075</td>\n",
       "      <td>0.671209</td>\n",
       "      <td>0.690776</td>\n",
       "    </tr>\n",
       "  </tbody>\n",
       "</table>\n",
       "</div>"
      ],
      "text/plain": [
       "  Categories  Recall_NB  Recall_SVC  Recall_LR  Recall_RF  Recall_GRD  \\\n",
       "0   positive   0.340438    0.470767   0.244214   0.299026    0.190621   \n",
       "1   negative   0.730905    0.541730   0.515933   0.574608    0.485078   \n",
       "2    neutral   0.436408    0.675751   0.690776   0.603075    0.671209   \n",
       "\n",
       "   Max_Recall  \n",
       "0    0.470767  \n",
       "1    0.730905  \n",
       "2    0.690776  "
      ]
     },
     "execution_count": 108,
     "metadata": {},
     "output_type": "execute_result"
    }
   ],
   "source": [
    "df_tunedrec1 = pd.DataFrame(columns = ['Categories', 'Recall_NB','Recall_SVC', \n",
    "                                   'Recall_LR', 'Recall_RF','Recall_GRD','Max_Recall'])\n",
    "df_tunedrec1.Categories = df_NB.Categories\n",
    "\n",
    "df_tunedrec1.Recall_NB  = df_tunedNB_tweets.Recall_NB\n",
    "df_tunedrec1.Recall_SVC  = df_tunedSVC_tweets.Recall_SVC\n",
    "df_tunedrec1.Recall_LR  = df_tunedLR_tweets.Recall_LR\n",
    "df_tunedrec1.Recall_RF = df_tunedRF_tweets.Recall_RF\n",
    "df_tunedrec1.Recall_GRD  = df_tunedGRD_tweets.Recall_GRD\n",
    "df_tunedrec1.Max_Recall = df_tunedrec1.max(axis=1)\n",
    "\n",
    "df_tunedrec1.to_csv('/Users/valery/Documents/Springboard/Capstone_2/Tuned_Results/Tuned_Recall.csv')\n",
    "\n",
    "df_tunedrec1"
   ]
  },
  {
   "cell_type": "code",
   "execution_count": 50,
   "metadata": {},
   "outputs": [],
   "source": [
    "#sklearn.metrics.roc_curve(y_true, y_score, pos_label=None, sample_weight=None, drop_intermediate=True)"
   ]
  },
  {
   "cell_type": "code",
   "execution_count": 110,
   "metadata": {},
   "outputs": [
    {
     "name": "stdout",
     "output_type": "stream",
     "text": [
      "positive\n",
      "AUC:   0.5744000041280511\n"
     ]
    },
    {
     "data": {
      "image/png": "[encoded data removed]",
      "text/plain": [
       "<Figure size 432x288 with 1 Axes>"
      ]
     },
     "metadata": {
      "needs_background": "light"
     },
     "output_type": "display_data"
    },
    {
     "name": "stdout",
     "output_type": "stream",
     "text": [
      "negative\n",
      "AUC:   0.7561054592287326\n"
     ]
    },
    {
     "data": {
      "image/png": "[encoded data removed]",
      "text/plain": [
       "<Figure size 432x288 with 1 Axes>"
      ]
     },
     "metadata": {
      "needs_background": "light"
     },
     "output_type": "display_data"
    },
    {
     "name": "stdout",
     "output_type": "stream",
     "text": [
      "neutral\n",
      "AUC:   0.6410496256943468\n"
     ]
    },
    {
     "data": {
      "image/png": "[encoded data removed]",
      "text/plain": [
       "<Figure size 432x288 with 1 Axes>"
      ]
     },
     "metadata": {
      "needs_background": "light"
     },
     "output_type": "display_data"
    }
   ],
   "source": [
    "vectorizer = CountVectorizer(stop_words='english',binary=False,max_df=.4, ngram_range=(1, 1),\n",
    "                                     min_df=1,strip_accents='unicode',max_features=200)\n",
    "\n",
    "featurizer = TfidfVectorizer(stop_words='english',binary=False,max_df=.4,min_df=1, max_features=200)\n",
    "X = vectorizer.fit_transform(df_train.tweet)\n",
    "\n",
    "\n",
    "#Prediciton with NB\n",
    "#conmatrxSVC = []\n",
    "#precisionSVC = []\n",
    "#recallSVC = []\n",
    "#f1SVC = []\n",
    "\n",
    "\n",
    "for category in categories:\n",
    "    if category == 'positive':\n",
    "        clf_tunedSVC = LinearSVC(random_state=42, loss='squared_hinge', C=1000)\n",
    "        y_train_pred = cross_val_predict(clf_tunedSVC, X, df_train[category], cv=5)\n",
    "    if category == 'negative':\n",
    "        clf_tunedNB = MultinomialNB(alpha=0.00001)\n",
    "        y_train_pred = cross_val_predict(clf_tunedNB, X, df_train[category], cv=5)\n",
    "    if category == 'neutral':\n",
    "        clf_tunedLR = LogisticRegression(penalty='l1', C=0.03359818286283781)\n",
    "        y_train_pred = cross_val_predict(clf_tunedLR, X, df_train[category], cv=5)\n",
    "\n",
    "    \n",
    "    fpr, tpr, _  = roc_curve(df_train[category], y_train_pred)\n",
    "    auc_score = roc_auc_score(df_train[category], y_train_pred)\n",
    "    \n",
    "    print(category)\n",
    "    print('AUC:  ', auc_score)\n",
    "    \n",
    "    plt.figure(1)\n",
    "    plt.plot([0, 1], [0, 1], 'k--')\n",
    "    plt.plot(fpr, tpr, label=category)\n",
    "    plt.xlabel('False positive rate')\n",
    "    plt.ylabel('True positive rate')\n",
    "    plt.title('ROC curve')\n",
    "    plt.legend(loc='best')\n",
    "    plt.show()\n",
    "    \n"
   ]
  },
  {
   "cell_type": "markdown",
   "metadata": {},
   "source": [
    "### Conclusion\n",
    "\n",
    "The best recall for the positive label was obtained with the tuned SVC model. The best recall for the negative label was obtained with the tuned NB model. The best recall for the neutral label was obtained with the tuned LR model. This will be the final model, as the highest recall  and thus, sensitivity, will give us the best classification results for this problem. We want to predict the highest number of tweets in each category and are willing to accept a few incorrect classifications in order to catch all the correct classifications. We can be fairly confident with these numbers as the precision scores are all above 50%, even after tuning for recall. "
   ]
  },
  {
   "cell_type": "markdown",
   "metadata": {},
   "source": [
    "## Final training with AUC scores"
   ]
  },
  {
   "cell_type": "code",
   "execution_count": 131,
   "metadata": {},
   "outputs": [
    {
     "name": "stdout",
     "output_type": "stream",
     "text": [
      "positive\n",
      "0.6058621906840319 \n",
      "\n",
      "negative\n",
      "0.759906997550746 \n",
      "\n",
      "neutral\n",
      "0.6449127048079506 \n",
      "\n"
     ]
    }
   ],
   "source": [
    "for category in categories:\n",
    "\n",
    "\n",
    "    y = df_train[category].values.astype(np.int)\n",
    "\n",
    "    X_train, X_test, y_train, y_test = train_test_split(X, y, test_size=0.3)\n",
    "\n",
    "    # Supervised transformation based on gradient boosted trees\n",
    "    clf_tunedNB = MultinomialNB(alpha=1)\n",
    "    clf_tunedNB.fit(X_train, y_train)\n",
    "    \n",
    "    # The gradient boosted model by itself\n",
    "    y_pred = clf_tunedNB.predict(X_test)\n",
    "    fpr, tpr, _ = roc_curve(y_test, y_pred)\n",
    "    auc = roc_auc_score(y_test, y_pred)\n",
    "    \n",
    "    print(category)\n",
    "    print(auc, '\\n')"
   ]
  },
  {
   "cell_type": "code",
   "execution_count": 130,
   "metadata": {},
   "outputs": [
    {
     "name": "stdout",
     "output_type": "stream",
     "text": [
      "positive\n",
      "0.5756407634533011 \n",
      "\n",
      "negative\n",
      "0.6788250614523448 \n",
      "\n",
      "neutral\n",
      "0.6111152182950401 \n",
      "\n"
     ]
    }
   ],
   "source": [
    "for category in categories:\n",
    "\n",
    "\n",
    "    y = df_train[category].values.astype(np.int)\n",
    "\n",
    "    X_train, X_test, y_train, y_test = train_test_split(X, y, test_size=0.3)\n",
    "\n",
    "    # Supervised transformation based on gradient boosted trees\n",
    "    clf_tunedSVC = LinearSVC(random_state=42, loss='squared_hinge', C=1000)\n",
    "    clf_tunedSVC.fit(X_train, y_train)\n",
    "    \n",
    "    # The gradient boosted model by itself\n",
    "    y_pred = clf_tunedSVC.predict(X_test)\n",
    "    fpr, tpr, _ = roc_curve(y_test, y_pred)\n",
    "    auc = roc_auc_score(y_test, y_pred)\n",
    "    \n",
    "    print(category)\n",
    "    print(auc, '\\n')"
   ]
  },
  {
   "cell_type": "code",
   "execution_count": 195,
   "metadata": {},
   "outputs": [
    {
     "name": "stdout",
     "output_type": "stream",
     "text": [
      "positive\n",
      "0.7075861550791425 \n",
      "\n",
      "negative\n",
      "0.8317214832758875 \n",
      "\n",
      "neutral\n",
      "0.766716551419367 \n",
      "\n"
     ]
    }
   ],
   "source": [
    "\n",
    "for category in categories:\n",
    "\n",
    "\n",
    "    y = df_train[category].values.astype(np.int)\n",
    "\n",
    "    \n",
    "    \n",
    "    if category == 'positive':\n",
    "        clf_tunedLR = LogisticRegression(penalty='l1',C=78.47599703514607)\n",
    "        X = featurizer.fit_transform(df_train.tweet)\n",
    "        X_train, X_test, y_train, y_test = train_test_split(X, y, test_size=0.3)\n",
    "    if category == 'negative':\n",
    "        clf_tunedLR = LogisticRegression(penalty='l1',C=78.47599703514607)\n",
    "        X = vectorizer.fit_transform(df_train.tweet)\n",
    "        X_train, X_test, y_train, y_test = train_test_split(X, y, test_size=0.3)\n",
    "    if category == 'neutral':\n",
    "        clf_tunedLR = LogisticRegression(penalty='l1', C=0.615848211066026)\n",
    "        X = featurizer.fit_transform(df_train.tweet)\n",
    "        X_train, X_test, y_train, y_test = train_test_split(X, y, test_size=0.3)\n",
    "        \n",
    "    clf_tunedLR.fit(X_train, y_train)\n",
    "    \n",
    "    \n",
    "    # The gradient boosted model by itself\n",
    "    y_pred = clf_tunedLR.predict_proba(X_test)[:, 1]\n",
    "    fpr_lr, tpr_lr, _ = roc_curve(y_test, y_pred)\n",
    "    auc = roc_auc_score(y_test, y_pred)\n",
    "    \n",
    "    print(category)\n",
    "    print(auc, '\\n')\n",
    "    "
   ]
  },
  {
   "cell_type": "code",
   "execution_count": 124,
   "metadata": {},
   "outputs": [
    {
     "name": "stdout",
     "output_type": "stream",
     "text": [
      "positive\n",
      "0.6382330152234995 \n",
      "\n",
      "negative\n",
      "0.8068803554427165 \n",
      "\n",
      "neutral\n",
      "0.6995918327858138 \n",
      "\n"
     ]
    }
   ],
   "source": [
    "for category in categories:\n",
    "\n",
    "\n",
    "    y = df_train[category].values.astype(np.int)\n",
    "\n",
    "    X_train, X_test, y_train, y_test = train_test_split(X, y, test_size=0.3)\n",
    "\n",
    "    # Supervised transformation based on gradient boosted trees\n",
    "    clf_tunedRF = RandomForestClassifier(random_state=42, n_estimators=16)\n",
    "    clf_tunedRF.fit(X_train, y_train)\n",
    "    # The gradient boosted model by itself\n",
    "    y_pred = clf_tunedRF.predict_proba(X_test)[:, 1]\n",
    "    fpr, tpr, _ = roc_curve(y_test, y_pred)\n",
    "    auc = roc_auc_score(y_test, y_pred)\n",
    "    \n",
    "    print(category)\n",
    "    print(auc, '\\n')"
   ]
  },
  {
   "cell_type": "code",
   "execution_count": 162,
   "metadata": {},
   "outputs": [
    {
     "name": "stdout",
     "output_type": "stream",
     "text": [
      "positive\n",
      "0.6826309277898024 \n",
      "\n",
      "negative\n",
      "0.8460857186607044 \n",
      "\n",
      "neutral\n",
      "0.6609290655063806 \n",
      "\n"
     ]
    }
   ],
   "source": [
    "for category in categories:\n",
    "\n",
    "\n",
    "    y = df_train[category].values.astype(np.int)\n",
    "\n",
    "    X_train, X_test, y_train, y_test = train_test_split(X, y, test_size=0.3)\n",
    "    \n",
    "    if category == 'positive':\n",
    "        clf_tunedGRD = GradientBoostingClassifier(random_state=42, loss='deviance', n_estimators=200)\n",
    "        X = featurizer.fit_transform(df_train.tweet)\n",
    "        X_train, X_test, y_train, y_test = train_test_split(X, y, test_size=0.3)\n",
    "    if category == 'negative':\n",
    "        clf_tunedGRD = GradientBoostingClassifier(random_state=42, loss='deviance', n_estimators=200)\n",
    "        X = vectorizer.fit_transform(df_train.tweet)\n",
    "        X_train, X_test, y_train, y_test = train_test_split(X, y, test_size=0.3)\n",
    "    if category == 'neutral':\n",
    "        clf_tunedGRD= GradientBoostingClassifier(random_state=42, loss='exponential', n_estimators=16)\n",
    "        X = featurizer.fit_transform(df_train.tweet)\n",
    "        X_train, X_test, y_train, y_test = train_test_split(X, y, test_size=0.3)\n",
    "\n",
    "     \n",
    "    clf_tunedGRD.fit(X_train, y_train)\n",
    "    # The gradient boosted model by itself\n",
    "    y_pred_grd = clf_tunedGRD.predict_proba(X_test)[:, 1]\n",
    "    fpr_grd, tpr_grd, _ = roc_curve(y_test, y_pred_grd)\n",
    "    grd_auc = roc_auc_score(y_test, y_pred_grd)\n",
    "    \n",
    "    print(category)\n",
    "    print(grd_auc, '\\n')"
   ]
  },
  {
   "cell_type": "code",
   "execution_count": null,
   "metadata": {},
   "outputs": [],
   "source": [
    "## Ensembled Gradient Boosting and Logistic Regression"
   ]
  },
  {
   "cell_type": "code",
   "execution_count": 202,
   "metadata": {},
   "outputs": [
    {
     "name": "stdout",
     "output_type": "stream",
     "text": [
      "positive\n",
      "0.64911924145569 \n",
      "\n",
      "negative\n",
      "0.6435081340939881 \n",
      "\n",
      "neutral\n",
      "0.6533457578574324 \n",
      "\n"
     ]
    }
   ],
   "source": [
    "for category in categories:\n",
    "\n",
    "    if category == 'positive':\n",
    "        grd = GradientBoostingClassifier(random_state=42, loss='deviance', n_estimators=200)\n",
    "        X = featurizer.fit_transform(df_train.tweet)\n",
    "        X_train, X_test, y_train, y_test = train_test_split(X, y, test_size=0.5)\n",
    "        X_train, X_train_lr, y_train, y_train_lr = train_test_split(X_train, y_train, test_size=0.5)\n",
    "        grd_lm = LogisticRegression(penalty='l1',C=78.47599703514607)\n",
    "        grd.fit(X_train, y_train)\n",
    "        grd_lm.fit((grd.apply(X_train_lr)[:, :, 0]), y_train_lr)\n",
    "        y_pred_grd_lm = grd_lm.predict(grd.apply(X_test)[:, :, 0])\n",
    "        fpr, tpr, _ = roc_curve(y_test, y_pred_grd_lm)\n",
    "        grd_lm_auc = roc_auc_score(y_test, y_pred_grd_lm)\n",
    "        \n",
    "    if category == 'negative':\n",
    "        clf_tunedGRD = GradientBoostingClassifier(random_state=42, loss='deviance', n_estimators=200)\n",
    "        X = featurizer.fit_transform(df_train.tweet)\n",
    "        X_train, X_test, y_train, y_test = train_test_split(X, y, test_size=0.5)\n",
    "        X_train, X_train_lr, y_train, y_train_lr = train_test_split(X_train, y_train, test_size=0.5)\n",
    "        grd_lm = LogisticRegression(penalty='l1',C=78.47599703514607)\n",
    "        grd.fit(X_train, y_train)\n",
    "        grd_lm.fit((grd.apply(X_train_lr)[:, :, 0]), y_train_lr)\n",
    "        y_pred_grd_lm = grd_lm.predict(grd.apply(X_test)[:, :, 0])\n",
    "        fpr, tpr, _ = roc_curve(y_test, y_pred_grd_lm)\n",
    "        grd_lm_auc = roc_auc_score(y_test, y_pred_grd_lm)\n",
    "    \n",
    "    if category == 'neutral':\n",
    "        clf_tunedGRD= GradientBoostingClassifier(random_state=42, loss='exponential', n_estimators=16)\n",
    "        X = featurizer.fit_transform(df_train.tweet)\n",
    "        X_train, X_test, y_train, y_test = train_test_split(X, y, test_size=0.5)\n",
    "        X_train, X_train_lr, y_train, y_train_lr = train_test_split(X_train, y_train, test_size=0.5)        \n",
    "        grd_lm =LogisticRegression(penalty='l1', C=0.615848211066026)\n",
    "        grd.fit(X_train, y_train)\n",
    "        grd_lm.fit((grd.apply(X_train_lr)[:, :, 0]), y_train_lr)\n",
    "        y_pred_grd_lm = grd_lm.predict(grd.apply(X_test)[:, :, 0])\n",
    "        fpr, tpr, _ = roc_curve(y_test, y_pred_grd_lm)\n",
    "        grd_lm_auc = roc_auc_score(y_test, y_pred_grd_lm)\n",
    "\n",
    "    print(category)\n",
    "    print(grd_lm_auc, '\\n')\n",
    "    \n"
   ]
  },
  {
   "cell_type": "code",
   "execution_count": 201,
   "metadata": {},
   "outputs": [
    {
     "data": {
      "image/png": "[encoded data removed]",
      "text/plain": [
       "<Figure size 432x288 with 1 Axes>"
      ]
     },
     "metadata": {
      "needs_background": "light"
     },
     "output_type": "display_data"
    },
    {
     "data": {
      "image/png": "[encoded data removed]",
      "text/plain": [
       "<Figure size 432x288 with 1 Axes>"
      ]
     },
     "metadata": {
      "needs_background": "light"
     },
     "output_type": "display_data"
    },
    {
     "data": {
      "image/png": "[encoded data removed]",
      "text/plain": [
       "<Figure size 432x288 with 1 Axes>"
      ]
     },
     "metadata": {
      "needs_background": "light"
     },
     "output_type": "display_data"
    }
   ],
   "source": [
    "\n",
    "for category in categories:\n",
    "    plt.figure(1)\n",
    "    plt.plot([0, 1], [0, 1], 'k--')\n",
    "    plt.plot(fpr_lr, tpr_lr, label='Logistic Regreesion')\n",
    "    plt.plot(fpr_grd, tpr_grd, label='Gradient Boosting')\n",
    "    plt.plot(fpr, tpr, label='Boosted Ensemble')\n",
    "    plt.xlabel('False positive rate')\n",
    "    plt.ylabel('True positive rate')\n",
    "    plt.title(category)\n",
    "    plt.legend(loc='best')\n",
    "    plt.show()\n"
   ]
  },
  {
   "cell_type": "markdown",
   "metadata": {},
   "source": [
    "## Model Selection\n",
    "\n",
    "ROC curves are a good choice of visualization when there are roughly equal numbers of observations for each category, such as this data set. While the ensembled model outperformed the gradient boosting model, it did not do better than the logistic regression alone. The best performer for sensitivity is the tuned Logistic Regression model for all three categories. "
   ]
  }
 ],
 "metadata": {
  "kernelspec": {
   "display_name": "Python 3",
   "language": "python",
   "name": "python3"
  },
  "language_info": {
   "codemirror_mode": {
    "name": "ipython",
    "version": 3
   },
   "file_extension": ".py",
   "mimetype": "text/x-python",
   "name": "python",
   "nbconvert_exporter": "python",
   "pygments_lexer": "ipython3",
   "version": "3.7.2"
  }
 },
 "nbformat": 4,
 "nbformat_minor": 2
}
